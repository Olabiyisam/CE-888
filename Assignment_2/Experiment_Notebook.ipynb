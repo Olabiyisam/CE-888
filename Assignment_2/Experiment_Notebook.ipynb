{
  "nbformat": 4,
  "nbformat_minor": 0,
  "metadata": {
    "colab": {
      "name": "Experiment Notebook",
      "provenance": [],
      "collapsed_sections": []
    },
    "kernelspec": {
      "name": "python3",
      "display_name": "Python 3"
    },
    "language_info": {
      "name": "python"
    }
  },
  "cells": [
    {
      "cell_type": "code",
      "execution_count": 29,
      "metadata": {
        "id": "h6XAnmfwAAiM"
      },
      "outputs": [],
      "source": [
        "#Importing required libraries\n",
        "import pandas as pd\n",
        "from scipy import stats\n",
        "from scipy.stats import norm, skew #for some statistics\n",
        "import matplotlib.pyplot as plt\n",
        "\n",
        "import seaborn as sns\n",
        "import xgboost as xgb\n",
        "from lightgbm import LGBMRegressor\n",
        "import numpy as np\n",
        "from sklearn.datasets import load_linnerud\n",
        "from sklearn.multioutput import MultiOutputRegressor\n",
        "from sklearn.linear_model import Ridge"
      ]
    },
    {
      "cell_type": "code",
      "source": [
        "#Reading in the xlsx file \n",
        "\n",
        "data = pd.read_excel('Data.xlsx', sheet_name=None)\n",
        "\n",
        "# loop through the dictionary and save csv\n",
        "for sheet_name, df in data.items():\n",
        "  df.to_csv(f'{sheet_name}.csv')"
      ],
      "metadata": {
        "id": "qWJQFzhO7jgO"
      },
      "execution_count": 30,
      "outputs": []
    },
    {
      "cell_type": "code",
      "source": [
        "flight  = pd.read_csv(\"flight dates.csv\")\n",
        "planting  = pd.read_csv(\"planting.csv\")\n",
        "plant  =  pd.read_csv(\"plants.csv\")\n",
        "weather = pd.read_csv(\"weather.csv\")"
      ],
      "metadata": {
        "id": "tEfQxl9PAaBL"
      },
      "execution_count": 31,
      "outputs": []
    },
    {
      "cell_type": "code",
      "source": [
        "plant.shape"
      ],
      "metadata": {
        "colab": {
          "base_uri": "https://localhost:8080/"
        },
        "id": "MM-CaP0OIO2G",
        "outputId": "ac69e666-6963-4768-f218-6e9ad1596a0c"
      },
      "execution_count": 32,
      "outputs": [
        {
          "output_type": "execute_result",
          "data": {
            "text/plain": [
              "(4859, 16)"
            ]
          },
          "metadata": {},
          "execution_count": 32
        }
      ]
    },
    {
      "cell_type": "code",
      "source": [
        "plant.columns"
      ],
      "metadata": {
        "colab": {
          "base_uri": "https://localhost:8080/"
        },
        "id": "PMeEo1OZAtOQ",
        "outputId": "521fd883-d7a0-43b6-cef3-18bf178cda45"
      },
      "execution_count": 33,
      "outputs": [
        {
          "output_type": "execute_result",
          "data": {
            "text/plain": [
              "Index(['Unnamed: 0', 'Batch Number', 'Plant Date', 'Class', 'Fresh Weight (g)',\n",
              "       'Head Weight (g)', 'Radial Diameter (mm)', 'Polar Diameter (mm)',\n",
              "       'Diameter Ratio', 'Leaves', 'Density (kg/L)', 'Leaf Area (cm^2)',\n",
              "       'Square ID', 'Check Date', 'Flight Date', 'Remove'],\n",
              "      dtype='object')"
            ]
          },
          "metadata": {},
          "execution_count": 33
        }
      ]
    },
    {
      "cell_type": "code",
      "source": [
        "plant.drop([\"Unnamed: 0\"],axis  = 1,inplace  = True)\n",
        "flight.drop([\"Unnamed: 0\"],axis  = 1,inplace  = True)\n",
        "planting.drop([\"Unnamed: 0\"],axis  = 1,inplace  = True)\n",
        "weather.drop([\"Unnamed: 0\"],axis  = 1,inplace  = True)"
      ],
      "metadata": {
        "id": "gP32OwlUBVkn"
      },
      "execution_count": 34,
      "outputs": []
    },
    {
      "cell_type": "code",
      "source": [
        "plant.columns = ['BatchNumber', 'PlantDate', 'Class', 'FreshWeight(g)',\n",
        "       'HeadWeight(g)', 'RadialDiameter(mm)', 'PolarDiameter(mm)',\n",
        "       'DiameterRatio', 'Leaves', 'Density(kg/L)', 'LeafArea(cm^2)',\n",
        "       'SquareID', 'CheckDate', 'FlightDate', 'Remove']"
      ],
      "metadata": {
        "id": "vGd1MvAmHboG"
      },
      "execution_count": 35,
      "outputs": []
    },
    {
      "cell_type": "code",
      "source": [
        "flight.columns  = ['BatchNumber', 'FlightDate']"
      ],
      "metadata": {
        "id": "OQgK_ypYHwDN"
      },
      "execution_count": 36,
      "outputs": []
    },
    {
      "cell_type": "code",
      "source": [
        "#Mapping Batch Number to flight date\n",
        "plant.FlightDate  = plant['BatchNumber'].map(flight.set_index('BatchNumber')['FlightDate'])"
      ],
      "metadata": {
        "id": "jYmbJHJYJLRj"
      },
      "execution_count": 37,
      "outputs": []
    },
    {
      "cell_type": "code",
      "source": [
        "planting.head()"
      ],
      "metadata": {
        "colab": {
          "base_uri": "https://localhost:8080/",
          "height": 206
        },
        "id": "bF7fHvGAKhw7",
        "outputId": "c9ccd3b8-8e92-44f2-d2ea-bc370cea4b53"
      },
      "execution_count": 38,
      "outputs": [
        {
          "output_type": "execute_result",
          "data": {
            "text/plain": [
              "  Crop  Column2  Column3           Plant_Date  Column1  Region  Column4  \\\n",
              "0    3      NaN      NaN  2020-02-06 00:00:00      NaN     0.0      NaN   \n",
              "1    3      NaN      NaN  2020-02-07 00:00:00      NaN     0.0      NaN   \n",
              "2    3      NaN      NaN  2020-02-07 00:00:00      NaN     0.0      NaN   \n",
              "3    3      NaN      NaN  2020-02-08 00:00:00      NaN     0.0      NaN   \n",
              "4    3      NaN      NaN  2020-02-10 00:00:00      NaN     0.0      NaN   \n",
              "\n",
              "  Planting_Batch  Volume_Planted  Planting_Wk  \n",
              "0            392        198912.0          6.0  \n",
              "1            503         63840.0          6.0  \n",
              "2            614        179928.0          6.0  \n",
              "3            725        200256.0          6.0  \n",
              "4            770         13944.0          7.0  "
            ],
            "text/html": [
              "\n",
              "  <div id=\"df-8a5c5ef6-9a01-4a2d-a281-3e87936b4204\">\n",
              "    <div class=\"colab-df-container\">\n",
              "      <div>\n",
              "<style scoped>\n",
              "    .dataframe tbody tr th:only-of-type {\n",
              "        vertical-align: middle;\n",
              "    }\n",
              "\n",
              "    .dataframe tbody tr th {\n",
              "        vertical-align: top;\n",
              "    }\n",
              "\n",
              "    .dataframe thead th {\n",
              "        text-align: right;\n",
              "    }\n",
              "</style>\n",
              "<table border=\"1\" class=\"dataframe\">\n",
              "  <thead>\n",
              "    <tr style=\"text-align: right;\">\n",
              "      <th></th>\n",
              "      <th>Crop</th>\n",
              "      <th>Column2</th>\n",
              "      <th>Column3</th>\n",
              "      <th>Plant_Date</th>\n",
              "      <th>Column1</th>\n",
              "      <th>Region</th>\n",
              "      <th>Column4</th>\n",
              "      <th>Planting_Batch</th>\n",
              "      <th>Volume_Planted</th>\n",
              "      <th>Planting_Wk</th>\n",
              "    </tr>\n",
              "  </thead>\n",
              "  <tbody>\n",
              "    <tr>\n",
              "      <th>0</th>\n",
              "      <td>3</td>\n",
              "      <td>NaN</td>\n",
              "      <td>NaN</td>\n",
              "      <td>2020-02-06 00:00:00</td>\n",
              "      <td>NaN</td>\n",
              "      <td>0.0</td>\n",
              "      <td>NaN</td>\n",
              "      <td>392</td>\n",
              "      <td>198912.0</td>\n",
              "      <td>6.0</td>\n",
              "    </tr>\n",
              "    <tr>\n",
              "      <th>1</th>\n",
              "      <td>3</td>\n",
              "      <td>NaN</td>\n",
              "      <td>NaN</td>\n",
              "      <td>2020-02-07 00:00:00</td>\n",
              "      <td>NaN</td>\n",
              "      <td>0.0</td>\n",
              "      <td>NaN</td>\n",
              "      <td>503</td>\n",
              "      <td>63840.0</td>\n",
              "      <td>6.0</td>\n",
              "    </tr>\n",
              "    <tr>\n",
              "      <th>2</th>\n",
              "      <td>3</td>\n",
              "      <td>NaN</td>\n",
              "      <td>NaN</td>\n",
              "      <td>2020-02-07 00:00:00</td>\n",
              "      <td>NaN</td>\n",
              "      <td>0.0</td>\n",
              "      <td>NaN</td>\n",
              "      <td>614</td>\n",
              "      <td>179928.0</td>\n",
              "      <td>6.0</td>\n",
              "    </tr>\n",
              "    <tr>\n",
              "      <th>3</th>\n",
              "      <td>3</td>\n",
              "      <td>NaN</td>\n",
              "      <td>NaN</td>\n",
              "      <td>2020-02-08 00:00:00</td>\n",
              "      <td>NaN</td>\n",
              "      <td>0.0</td>\n",
              "      <td>NaN</td>\n",
              "      <td>725</td>\n",
              "      <td>200256.0</td>\n",
              "      <td>6.0</td>\n",
              "    </tr>\n",
              "    <tr>\n",
              "      <th>4</th>\n",
              "      <td>3</td>\n",
              "      <td>NaN</td>\n",
              "      <td>NaN</td>\n",
              "      <td>2020-02-10 00:00:00</td>\n",
              "      <td>NaN</td>\n",
              "      <td>0.0</td>\n",
              "      <td>NaN</td>\n",
              "      <td>770</td>\n",
              "      <td>13944.0</td>\n",
              "      <td>7.0</td>\n",
              "    </tr>\n",
              "  </tbody>\n",
              "</table>\n",
              "</div>\n",
              "      <button class=\"colab-df-convert\" onclick=\"convertToInteractive('df-8a5c5ef6-9a01-4a2d-a281-3e87936b4204')\"\n",
              "              title=\"Convert this dataframe to an interactive table.\"\n",
              "              style=\"display:none;\">\n",
              "        \n",
              "  <svg xmlns=\"http://www.w3.org/2000/svg\" height=\"24px\"viewBox=\"0 0 24 24\"\n",
              "       width=\"24px\">\n",
              "    <path d=\"M0 0h24v24H0V0z\" fill=\"none\"/>\n",
              "    <path d=\"M18.56 5.44l.94 2.06.94-2.06 2.06-.94-2.06-.94-.94-2.06-.94 2.06-2.06.94zm-11 1L8.5 8.5l.94-2.06 2.06-.94-2.06-.94L8.5 2.5l-.94 2.06-2.06.94zm10 10l.94 2.06.94-2.06 2.06-.94-2.06-.94-.94-2.06-.94 2.06-2.06.94z\"/><path d=\"M17.41 7.96l-1.37-1.37c-.4-.4-.92-.59-1.43-.59-.52 0-1.04.2-1.43.59L10.3 9.45l-7.72 7.72c-.78.78-.78 2.05 0 2.83L4 21.41c.39.39.9.59 1.41.59.51 0 1.02-.2 1.41-.59l7.78-7.78 2.81-2.81c.8-.78.8-2.07 0-2.86zM5.41 20L4 18.59l7.72-7.72 1.47 1.35L5.41 20z\"/>\n",
              "  </svg>\n",
              "      </button>\n",
              "      \n",
              "  <style>\n",
              "    .colab-df-container {\n",
              "      display:flex;\n",
              "      flex-wrap:wrap;\n",
              "      gap: 12px;\n",
              "    }\n",
              "\n",
              "    .colab-df-convert {\n",
              "      background-color: #E8F0FE;\n",
              "      border: none;\n",
              "      border-radius: 50%;\n",
              "      cursor: pointer;\n",
              "      display: none;\n",
              "      fill: #1967D2;\n",
              "      height: 32px;\n",
              "      padding: 0 0 0 0;\n",
              "      width: 32px;\n",
              "    }\n",
              "\n",
              "    .colab-df-convert:hover {\n",
              "      background-color: #E2EBFA;\n",
              "      box-shadow: 0px 1px 2px rgba(60, 64, 67, 0.3), 0px 1px 3px 1px rgba(60, 64, 67, 0.15);\n",
              "      fill: #174EA6;\n",
              "    }\n",
              "\n",
              "    [theme=dark] .colab-df-convert {\n",
              "      background-color: #3B4455;\n",
              "      fill: #D2E3FC;\n",
              "    }\n",
              "\n",
              "    [theme=dark] .colab-df-convert:hover {\n",
              "      background-color: #434B5C;\n",
              "      box-shadow: 0px 1px 3px 1px rgba(0, 0, 0, 0.15);\n",
              "      filter: drop-shadow(0px 1px 2px rgba(0, 0, 0, 0.3));\n",
              "      fill: #FFFFFF;\n",
              "    }\n",
              "  </style>\n",
              "\n",
              "      <script>\n",
              "        const buttonEl =\n",
              "          document.querySelector('#df-8a5c5ef6-9a01-4a2d-a281-3e87936b4204 button.colab-df-convert');\n",
              "        buttonEl.style.display =\n",
              "          google.colab.kernel.accessAllowed ? 'block' : 'none';\n",
              "\n",
              "        async function convertToInteractive(key) {\n",
              "          const element = document.querySelector('#df-8a5c5ef6-9a01-4a2d-a281-3e87936b4204');\n",
              "          const dataTable =\n",
              "            await google.colab.kernel.invokeFunction('convertToInteractive',\n",
              "                                                     [key], {});\n",
              "          if (!dataTable) return;\n",
              "\n",
              "          const docLinkHtml = 'Like what you see? Visit the ' +\n",
              "            '<a target=\"_blank\" href=https://colab.research.google.com/notebooks/data_table.ipynb>data table notebook</a>'\n",
              "            + ' to learn more about interactive tables.';\n",
              "          element.innerHTML = '';\n",
              "          dataTable['output_type'] = 'display_data';\n",
              "          await google.colab.output.renderOutput(dataTable, element);\n",
              "          const docLink = document.createElement('div');\n",
              "          docLink.innerHTML = docLinkHtml;\n",
              "          element.appendChild(docLink);\n",
              "        }\n",
              "      </script>\n",
              "    </div>\n",
              "  </div>\n",
              "  "
            ]
          },
          "metadata": {},
          "execution_count": 38
        }
      ]
    },
    {
      "cell_type": "code",
      "source": [
        "planting.Crop.value_counts()"
      ],
      "metadata": {
        "colab": {
          "base_uri": "https://localhost:8080/"
        },
        "id": "nyBnJuWBKlcR",
        "outputId": "e01b8f45-ed51-466b-fffc-bfa6d39a9932"
      },
      "execution_count": 39,
      "outputs": [
        {
          "output_type": "execute_result",
          "data": {
            "text/plain": [
              "3          485\n",
              "4          434\n",
              "8          266\n",
              "0          258\n",
              "6          162\n",
              "7           84\n",
              "1           65\n",
              "2           39\n",
              "5           28\n",
              "Ice 307     25\n",
              "Ice 311     25\n",
              "Ice 310     22\n",
              "Ice 306     20\n",
              "Ice 309     20\n",
              "Ice 305     19\n",
              "565          1\n",
              "Name: Crop, dtype: int64"
            ]
          },
          "metadata": {},
          "execution_count": 39
        }
      ]
    },
    {
      "cell_type": "code",
      "source": [
        "plant"
      ],
      "metadata": {
        "colab": {
          "base_uri": "https://localhost:8080/",
          "height": 661
        },
        "id": "N2I3Bya8JLO1",
        "outputId": "a2fcc4a8-a620-4a14-bf5f-c4e4112286a0"
      },
      "execution_count": 40,
      "outputs": [
        {
          "output_type": "execute_result",
          "data": {
            "text/plain": [
              "      BatchNumber   PlantDate  Class  FreshWeight(g)  HeadWeight(g)  \\\n",
              "0             402  2020-04-11      3            15.0            NaN   \n",
              "1             402  2020-04-11      4            15.0            NaN   \n",
              "2             402  2020-04-11      1            16.0            NaN   \n",
              "3             402  2020-04-11      3            15.0            NaN   \n",
              "4             402  2020-04-11      3            15.0            NaN   \n",
              "...           ...         ...    ...             ...            ...   \n",
              "4854          738  2020-08-27      4           284.0           12.0   \n",
              "4855          738  2020-08-27      5           199.0            8.0   \n",
              "4856          738  2020-08-27      3           280.0           23.0   \n",
              "4857          738  2020-08-27      4           247.0           10.0   \n",
              "4858          738  2020-08-27      2           183.0           18.0   \n",
              "\n",
              "      RadialDiameter(mm)  PolarDiameter(mm)  DiameterRatio  Leaves  \\\n",
              "0                    NaN                NaN            NaN    10.0   \n",
              "1                    NaN                NaN            NaN    11.0   \n",
              "2                    NaN                NaN            NaN    12.0   \n",
              "3                    NaN                NaN            NaN    10.0   \n",
              "4                    NaN                NaN            NaN    11.0   \n",
              "...                  ...                ...            ...     ...   \n",
              "4854                50.0               55.0       0.909091     NaN   \n",
              "4855                45.0               85.0       0.529412     NaN   \n",
              "4856                60.0               80.0       0.750000     NaN   \n",
              "4857                45.0               80.0       0.562500     NaN   \n",
              "4858                35.0              102.0       0.343137     NaN   \n",
              "\n",
              "      Density(kg/L)  LeafArea(cm^2)  SquareID   CheckDate  FlightDate Remove  \n",
              "0               NaN           185.0       208  2020-04-30  2020-04-30    NaN  \n",
              "1               NaN           156.0       208  2020-04-30  2020-04-30    NaN  \n",
              "2               NaN           137.0       208  2020-04-30  2020-04-30    NaN  \n",
              "3               NaN           225.0       208  2020-04-30  2020-04-30    NaN  \n",
              "4               NaN           157.0       208  2020-04-30  2020-04-30    NaN  \n",
              "...             ...             ...       ...         ...         ...    ...  \n",
              "4854            NaN           430.0      1172  2020-10-20         NaN    NaN  \n",
              "4855            NaN           358.0      1172  2020-10-20         NaN    NaN  \n",
              "4856            NaN           417.0      1172  2020-10-20         NaN    NaN  \n",
              "4857            NaN           413.0      1172  2020-10-20         NaN    NaN  \n",
              "4858            NaN           316.0      1172  2020-10-20         NaN    NaN  \n",
              "\n",
              "[4859 rows x 15 columns]"
            ],
            "text/html": [
              "\n",
              "  <div id=\"df-c5d80aea-a801-46da-b546-e644ddd7ef80\">\n",
              "    <div class=\"colab-df-container\">\n",
              "      <div>\n",
              "<style scoped>\n",
              "    .dataframe tbody tr th:only-of-type {\n",
              "        vertical-align: middle;\n",
              "    }\n",
              "\n",
              "    .dataframe tbody tr th {\n",
              "        vertical-align: top;\n",
              "    }\n",
              "\n",
              "    .dataframe thead th {\n",
              "        text-align: right;\n",
              "    }\n",
              "</style>\n",
              "<table border=\"1\" class=\"dataframe\">\n",
              "  <thead>\n",
              "    <tr style=\"text-align: right;\">\n",
              "      <th></th>\n",
              "      <th>BatchNumber</th>\n",
              "      <th>PlantDate</th>\n",
              "      <th>Class</th>\n",
              "      <th>FreshWeight(g)</th>\n",
              "      <th>HeadWeight(g)</th>\n",
              "      <th>RadialDiameter(mm)</th>\n",
              "      <th>PolarDiameter(mm)</th>\n",
              "      <th>DiameterRatio</th>\n",
              "      <th>Leaves</th>\n",
              "      <th>Density(kg/L)</th>\n",
              "      <th>LeafArea(cm^2)</th>\n",
              "      <th>SquareID</th>\n",
              "      <th>CheckDate</th>\n",
              "      <th>FlightDate</th>\n",
              "      <th>Remove</th>\n",
              "    </tr>\n",
              "  </thead>\n",
              "  <tbody>\n",
              "    <tr>\n",
              "      <th>0</th>\n",
              "      <td>402</td>\n",
              "      <td>2020-04-11</td>\n",
              "      <td>3</td>\n",
              "      <td>15.0</td>\n",
              "      <td>NaN</td>\n",
              "      <td>NaN</td>\n",
              "      <td>NaN</td>\n",
              "      <td>NaN</td>\n",
              "      <td>10.0</td>\n",
              "      <td>NaN</td>\n",
              "      <td>185.0</td>\n",
              "      <td>208</td>\n",
              "      <td>2020-04-30</td>\n",
              "      <td>2020-04-30</td>\n",
              "      <td>NaN</td>\n",
              "    </tr>\n",
              "    <tr>\n",
              "      <th>1</th>\n",
              "      <td>402</td>\n",
              "      <td>2020-04-11</td>\n",
              "      <td>4</td>\n",
              "      <td>15.0</td>\n",
              "      <td>NaN</td>\n",
              "      <td>NaN</td>\n",
              "      <td>NaN</td>\n",
              "      <td>NaN</td>\n",
              "      <td>11.0</td>\n",
              "      <td>NaN</td>\n",
              "      <td>156.0</td>\n",
              "      <td>208</td>\n",
              "      <td>2020-04-30</td>\n",
              "      <td>2020-04-30</td>\n",
              "      <td>NaN</td>\n",
              "    </tr>\n",
              "    <tr>\n",
              "      <th>2</th>\n",
              "      <td>402</td>\n",
              "      <td>2020-04-11</td>\n",
              "      <td>1</td>\n",
              "      <td>16.0</td>\n",
              "      <td>NaN</td>\n",
              "      <td>NaN</td>\n",
              "      <td>NaN</td>\n",
              "      <td>NaN</td>\n",
              "      <td>12.0</td>\n",
              "      <td>NaN</td>\n",
              "      <td>137.0</td>\n",
              "      <td>208</td>\n",
              "      <td>2020-04-30</td>\n",
              "      <td>2020-04-30</td>\n",
              "      <td>NaN</td>\n",
              "    </tr>\n",
              "    <tr>\n",
              "      <th>3</th>\n",
              "      <td>402</td>\n",
              "      <td>2020-04-11</td>\n",
              "      <td>3</td>\n",
              "      <td>15.0</td>\n",
              "      <td>NaN</td>\n",
              "      <td>NaN</td>\n",
              "      <td>NaN</td>\n",
              "      <td>NaN</td>\n",
              "      <td>10.0</td>\n",
              "      <td>NaN</td>\n",
              "      <td>225.0</td>\n",
              "      <td>208</td>\n",
              "      <td>2020-04-30</td>\n",
              "      <td>2020-04-30</td>\n",
              "      <td>NaN</td>\n",
              "    </tr>\n",
              "    <tr>\n",
              "      <th>4</th>\n",
              "      <td>402</td>\n",
              "      <td>2020-04-11</td>\n",
              "      <td>3</td>\n",
              "      <td>15.0</td>\n",
              "      <td>NaN</td>\n",
              "      <td>NaN</td>\n",
              "      <td>NaN</td>\n",
              "      <td>NaN</td>\n",
              "      <td>11.0</td>\n",
              "      <td>NaN</td>\n",
              "      <td>157.0</td>\n",
              "      <td>208</td>\n",
              "      <td>2020-04-30</td>\n",
              "      <td>2020-04-30</td>\n",
              "      <td>NaN</td>\n",
              "    </tr>\n",
              "    <tr>\n",
              "      <th>...</th>\n",
              "      <td>...</td>\n",
              "      <td>...</td>\n",
              "      <td>...</td>\n",
              "      <td>...</td>\n",
              "      <td>...</td>\n",
              "      <td>...</td>\n",
              "      <td>...</td>\n",
              "      <td>...</td>\n",
              "      <td>...</td>\n",
              "      <td>...</td>\n",
              "      <td>...</td>\n",
              "      <td>...</td>\n",
              "      <td>...</td>\n",
              "      <td>...</td>\n",
              "      <td>...</td>\n",
              "    </tr>\n",
              "    <tr>\n",
              "      <th>4854</th>\n",
              "      <td>738</td>\n",
              "      <td>2020-08-27</td>\n",
              "      <td>4</td>\n",
              "      <td>284.0</td>\n",
              "      <td>12.0</td>\n",
              "      <td>50.0</td>\n",
              "      <td>55.0</td>\n",
              "      <td>0.909091</td>\n",
              "      <td>NaN</td>\n",
              "      <td>NaN</td>\n",
              "      <td>430.0</td>\n",
              "      <td>1172</td>\n",
              "      <td>2020-10-20</td>\n",
              "      <td>NaN</td>\n",
              "      <td>NaN</td>\n",
              "    </tr>\n",
              "    <tr>\n",
              "      <th>4855</th>\n",
              "      <td>738</td>\n",
              "      <td>2020-08-27</td>\n",
              "      <td>5</td>\n",
              "      <td>199.0</td>\n",
              "      <td>8.0</td>\n",
              "      <td>45.0</td>\n",
              "      <td>85.0</td>\n",
              "      <td>0.529412</td>\n",
              "      <td>NaN</td>\n",
              "      <td>NaN</td>\n",
              "      <td>358.0</td>\n",
              "      <td>1172</td>\n",
              "      <td>2020-10-20</td>\n",
              "      <td>NaN</td>\n",
              "      <td>NaN</td>\n",
              "    </tr>\n",
              "    <tr>\n",
              "      <th>4856</th>\n",
              "      <td>738</td>\n",
              "      <td>2020-08-27</td>\n",
              "      <td>3</td>\n",
              "      <td>280.0</td>\n",
              "      <td>23.0</td>\n",
              "      <td>60.0</td>\n",
              "      <td>80.0</td>\n",
              "      <td>0.750000</td>\n",
              "      <td>NaN</td>\n",
              "      <td>NaN</td>\n",
              "      <td>417.0</td>\n",
              "      <td>1172</td>\n",
              "      <td>2020-10-20</td>\n",
              "      <td>NaN</td>\n",
              "      <td>NaN</td>\n",
              "    </tr>\n",
              "    <tr>\n",
              "      <th>4857</th>\n",
              "      <td>738</td>\n",
              "      <td>2020-08-27</td>\n",
              "      <td>4</td>\n",
              "      <td>247.0</td>\n",
              "      <td>10.0</td>\n",
              "      <td>45.0</td>\n",
              "      <td>80.0</td>\n",
              "      <td>0.562500</td>\n",
              "      <td>NaN</td>\n",
              "      <td>NaN</td>\n",
              "      <td>413.0</td>\n",
              "      <td>1172</td>\n",
              "      <td>2020-10-20</td>\n",
              "      <td>NaN</td>\n",
              "      <td>NaN</td>\n",
              "    </tr>\n",
              "    <tr>\n",
              "      <th>4858</th>\n",
              "      <td>738</td>\n",
              "      <td>2020-08-27</td>\n",
              "      <td>2</td>\n",
              "      <td>183.0</td>\n",
              "      <td>18.0</td>\n",
              "      <td>35.0</td>\n",
              "      <td>102.0</td>\n",
              "      <td>0.343137</td>\n",
              "      <td>NaN</td>\n",
              "      <td>NaN</td>\n",
              "      <td>316.0</td>\n",
              "      <td>1172</td>\n",
              "      <td>2020-10-20</td>\n",
              "      <td>NaN</td>\n",
              "      <td>NaN</td>\n",
              "    </tr>\n",
              "  </tbody>\n",
              "</table>\n",
              "<p>4859 rows × 15 columns</p>\n",
              "</div>\n",
              "      <button class=\"colab-df-convert\" onclick=\"convertToInteractive('df-c5d80aea-a801-46da-b546-e644ddd7ef80')\"\n",
              "              title=\"Convert this dataframe to an interactive table.\"\n",
              "              style=\"display:none;\">\n",
              "        \n",
              "  <svg xmlns=\"http://www.w3.org/2000/svg\" height=\"24px\"viewBox=\"0 0 24 24\"\n",
              "       width=\"24px\">\n",
              "    <path d=\"M0 0h24v24H0V0z\" fill=\"none\"/>\n",
              "    <path d=\"M18.56 5.44l.94 2.06.94-2.06 2.06-.94-2.06-.94-.94-2.06-.94 2.06-2.06.94zm-11 1L8.5 8.5l.94-2.06 2.06-.94-2.06-.94L8.5 2.5l-.94 2.06-2.06.94zm10 10l.94 2.06.94-2.06 2.06-.94-2.06-.94-.94-2.06-.94 2.06-2.06.94z\"/><path d=\"M17.41 7.96l-1.37-1.37c-.4-.4-.92-.59-1.43-.59-.52 0-1.04.2-1.43.59L10.3 9.45l-7.72 7.72c-.78.78-.78 2.05 0 2.83L4 21.41c.39.39.9.59 1.41.59.51 0 1.02-.2 1.41-.59l7.78-7.78 2.81-2.81c.8-.78.8-2.07 0-2.86zM5.41 20L4 18.59l7.72-7.72 1.47 1.35L5.41 20z\"/>\n",
              "  </svg>\n",
              "      </button>\n",
              "      \n",
              "  <style>\n",
              "    .colab-df-container {\n",
              "      display:flex;\n",
              "      flex-wrap:wrap;\n",
              "      gap: 12px;\n",
              "    }\n",
              "\n",
              "    .colab-df-convert {\n",
              "      background-color: #E8F0FE;\n",
              "      border: none;\n",
              "      border-radius: 50%;\n",
              "      cursor: pointer;\n",
              "      display: none;\n",
              "      fill: #1967D2;\n",
              "      height: 32px;\n",
              "      padding: 0 0 0 0;\n",
              "      width: 32px;\n",
              "    }\n",
              "\n",
              "    .colab-df-convert:hover {\n",
              "      background-color: #E2EBFA;\n",
              "      box-shadow: 0px 1px 2px rgba(60, 64, 67, 0.3), 0px 1px 3px 1px rgba(60, 64, 67, 0.15);\n",
              "      fill: #174EA6;\n",
              "    }\n",
              "\n",
              "    [theme=dark] .colab-df-convert {\n",
              "      background-color: #3B4455;\n",
              "      fill: #D2E3FC;\n",
              "    }\n",
              "\n",
              "    [theme=dark] .colab-df-convert:hover {\n",
              "      background-color: #434B5C;\n",
              "      box-shadow: 0px 1px 3px 1px rgba(0, 0, 0, 0.15);\n",
              "      filter: drop-shadow(0px 1px 2px rgba(0, 0, 0, 0.3));\n",
              "      fill: #FFFFFF;\n",
              "    }\n",
              "  </style>\n",
              "\n",
              "      <script>\n",
              "        const buttonEl =\n",
              "          document.querySelector('#df-c5d80aea-a801-46da-b546-e644ddd7ef80 button.colab-df-convert');\n",
              "        buttonEl.style.display =\n",
              "          google.colab.kernel.accessAllowed ? 'block' : 'none';\n",
              "\n",
              "        async function convertToInteractive(key) {\n",
              "          const element = document.querySelector('#df-c5d80aea-a801-46da-b546-e644ddd7ef80');\n",
              "          const dataTable =\n",
              "            await google.colab.kernel.invokeFunction('convertToInteractive',\n",
              "                                                     [key], {});\n",
              "          if (!dataTable) return;\n",
              "\n",
              "          const docLinkHtml = 'Like what you see? Visit the ' +\n",
              "            '<a target=\"_blank\" href=https://colab.research.google.com/notebooks/data_table.ipynb>data table notebook</a>'\n",
              "            + ' to learn more about interactive tables.';\n",
              "          element.innerHTML = '';\n",
              "          dataTable['output_type'] = 'display_data';\n",
              "          await google.colab.output.renderOutput(dataTable, element);\n",
              "          const docLink = document.createElement('div');\n",
              "          docLink.innerHTML = docLinkHtml;\n",
              "          element.appendChild(docLink);\n",
              "        }\n",
              "      </script>\n",
              "    </div>\n",
              "  </div>\n",
              "  "
            ]
          },
          "metadata": {},
          "execution_count": 40
        }
      ]
    },
    {
      "cell_type": "code",
      "source": [
        "plant.isnull().sum()"
      ],
      "metadata": {
        "colab": {
          "base_uri": "https://localhost:8080/"
        },
        "id": "OEiWQW_gILDu",
        "outputId": "ad93e0e6-ef28-488b-cbf3-982f09cd213b"
      },
      "execution_count": 41,
      "outputs": [
        {
          "output_type": "execute_result",
          "data": {
            "text/plain": [
              "BatchNumber              0\n",
              "PlantDate              174\n",
              "Class                    0\n",
              "FreshWeight(g)           1\n",
              "HeadWeight(g)          105\n",
              "RadialDiameter(mm)     105\n",
              "PolarDiameter(mm)      105\n",
              "DiameterRatio          107\n",
              "Leaves                4759\n",
              "Density(kg/L)          187\n",
              "LeafArea(cm^2)           2\n",
              "SquareID                 0\n",
              "CheckDate                0\n",
              "FlightDate            1459\n",
              "Remove                4789\n",
              "dtype: int64"
            ]
          },
          "metadata": {},
          "execution_count": 41
        }
      ]
    },
    {
      "cell_type": "code",
      "source": [
        "flight.head()"
      ],
      "metadata": {
        "colab": {
          "base_uri": "https://localhost:8080/",
          "height": 206
        },
        "id": "7VQbUPcyBVZ2",
        "outputId": "2be7af9c-4562-47e4-9e96-785e2b36af38"
      },
      "execution_count": 42,
      "outputs": [
        {
          "output_type": "execute_result",
          "data": {
            "text/plain": [
              "   BatchNumber  FlightDate\n",
              "0          402  2020-04-30\n",
              "1          408  2020-04-30\n",
              "2          409  2020-04-30\n",
              "3          466  2020-07-01\n",
              "4          467  2020-07-01"
            ],
            "text/html": [
              "\n",
              "  <div id=\"df-28276cc1-8e79-4940-a02a-e7aeca3b6d2d\">\n",
              "    <div class=\"colab-df-container\">\n",
              "      <div>\n",
              "<style scoped>\n",
              "    .dataframe tbody tr th:only-of-type {\n",
              "        vertical-align: middle;\n",
              "    }\n",
              "\n",
              "    .dataframe tbody tr th {\n",
              "        vertical-align: top;\n",
              "    }\n",
              "\n",
              "    .dataframe thead th {\n",
              "        text-align: right;\n",
              "    }\n",
              "</style>\n",
              "<table border=\"1\" class=\"dataframe\">\n",
              "  <thead>\n",
              "    <tr style=\"text-align: right;\">\n",
              "      <th></th>\n",
              "      <th>BatchNumber</th>\n",
              "      <th>FlightDate</th>\n",
              "    </tr>\n",
              "  </thead>\n",
              "  <tbody>\n",
              "    <tr>\n",
              "      <th>0</th>\n",
              "      <td>402</td>\n",
              "      <td>2020-04-30</td>\n",
              "    </tr>\n",
              "    <tr>\n",
              "      <th>1</th>\n",
              "      <td>408</td>\n",
              "      <td>2020-04-30</td>\n",
              "    </tr>\n",
              "    <tr>\n",
              "      <th>2</th>\n",
              "      <td>409</td>\n",
              "      <td>2020-04-30</td>\n",
              "    </tr>\n",
              "    <tr>\n",
              "      <th>3</th>\n",
              "      <td>466</td>\n",
              "      <td>2020-07-01</td>\n",
              "    </tr>\n",
              "    <tr>\n",
              "      <th>4</th>\n",
              "      <td>467</td>\n",
              "      <td>2020-07-01</td>\n",
              "    </tr>\n",
              "  </tbody>\n",
              "</table>\n",
              "</div>\n",
              "      <button class=\"colab-df-convert\" onclick=\"convertToInteractive('df-28276cc1-8e79-4940-a02a-e7aeca3b6d2d')\"\n",
              "              title=\"Convert this dataframe to an interactive table.\"\n",
              "              style=\"display:none;\">\n",
              "        \n",
              "  <svg xmlns=\"http://www.w3.org/2000/svg\" height=\"24px\"viewBox=\"0 0 24 24\"\n",
              "       width=\"24px\">\n",
              "    <path d=\"M0 0h24v24H0V0z\" fill=\"none\"/>\n",
              "    <path d=\"M18.56 5.44l.94 2.06.94-2.06 2.06-.94-2.06-.94-.94-2.06-.94 2.06-2.06.94zm-11 1L8.5 8.5l.94-2.06 2.06-.94-2.06-.94L8.5 2.5l-.94 2.06-2.06.94zm10 10l.94 2.06.94-2.06 2.06-.94-2.06-.94-.94-2.06-.94 2.06-2.06.94z\"/><path d=\"M17.41 7.96l-1.37-1.37c-.4-.4-.92-.59-1.43-.59-.52 0-1.04.2-1.43.59L10.3 9.45l-7.72 7.72c-.78.78-.78 2.05 0 2.83L4 21.41c.39.39.9.59 1.41.59.51 0 1.02-.2 1.41-.59l7.78-7.78 2.81-2.81c.8-.78.8-2.07 0-2.86zM5.41 20L4 18.59l7.72-7.72 1.47 1.35L5.41 20z\"/>\n",
              "  </svg>\n",
              "      </button>\n",
              "      \n",
              "  <style>\n",
              "    .colab-df-container {\n",
              "      display:flex;\n",
              "      flex-wrap:wrap;\n",
              "      gap: 12px;\n",
              "    }\n",
              "\n",
              "    .colab-df-convert {\n",
              "      background-color: #E8F0FE;\n",
              "      border: none;\n",
              "      border-radius: 50%;\n",
              "      cursor: pointer;\n",
              "      display: none;\n",
              "      fill: #1967D2;\n",
              "      height: 32px;\n",
              "      padding: 0 0 0 0;\n",
              "      width: 32px;\n",
              "    }\n",
              "\n",
              "    .colab-df-convert:hover {\n",
              "      background-color: #E2EBFA;\n",
              "      box-shadow: 0px 1px 2px rgba(60, 64, 67, 0.3), 0px 1px 3px 1px rgba(60, 64, 67, 0.15);\n",
              "      fill: #174EA6;\n",
              "    }\n",
              "\n",
              "    [theme=dark] .colab-df-convert {\n",
              "      background-color: #3B4455;\n",
              "      fill: #D2E3FC;\n",
              "    }\n",
              "\n",
              "    [theme=dark] .colab-df-convert:hover {\n",
              "      background-color: #434B5C;\n",
              "      box-shadow: 0px 1px 3px 1px rgba(0, 0, 0, 0.15);\n",
              "      filter: drop-shadow(0px 1px 2px rgba(0, 0, 0, 0.3));\n",
              "      fill: #FFFFFF;\n",
              "    }\n",
              "  </style>\n",
              "\n",
              "      <script>\n",
              "        const buttonEl =\n",
              "          document.querySelector('#df-28276cc1-8e79-4940-a02a-e7aeca3b6d2d button.colab-df-convert');\n",
              "        buttonEl.style.display =\n",
              "          google.colab.kernel.accessAllowed ? 'block' : 'none';\n",
              "\n",
              "        async function convertToInteractive(key) {\n",
              "          const element = document.querySelector('#df-28276cc1-8e79-4940-a02a-e7aeca3b6d2d');\n",
              "          const dataTable =\n",
              "            await google.colab.kernel.invokeFunction('convertToInteractive',\n",
              "                                                     [key], {});\n",
              "          if (!dataTable) return;\n",
              "\n",
              "          const docLinkHtml = 'Like what you see? Visit the ' +\n",
              "            '<a target=\"_blank\" href=https://colab.research.google.com/notebooks/data_table.ipynb>data table notebook</a>'\n",
              "            + ' to learn more about interactive tables.';\n",
              "          element.innerHTML = '';\n",
              "          dataTable['output_type'] = 'display_data';\n",
              "          await google.colab.output.renderOutput(dataTable, element);\n",
              "          const docLink = document.createElement('div');\n",
              "          docLink.innerHTML = docLinkHtml;\n",
              "          element.appendChild(docLink);\n",
              "        }\n",
              "      </script>\n",
              "    </div>\n",
              "  </div>\n",
              "  "
            ]
          },
          "metadata": {},
          "execution_count": 42
        }
      ]
    },
    {
      "cell_type": "code",
      "source": [
        "planting.head()"
      ],
      "metadata": {
        "colab": {
          "base_uri": "https://localhost:8080/",
          "height": 206
        },
        "id": "U3KaVpqkBWw5",
        "outputId": "3f0e0f67-61a0-4031-fd50-5c666ab42241"
      },
      "execution_count": 43,
      "outputs": [
        {
          "output_type": "execute_result",
          "data": {
            "text/plain": [
              "  Crop  Column2  Column3           Plant_Date  Column1  Region  Column4  \\\n",
              "0    3      NaN      NaN  2020-02-06 00:00:00      NaN     0.0      NaN   \n",
              "1    3      NaN      NaN  2020-02-07 00:00:00      NaN     0.0      NaN   \n",
              "2    3      NaN      NaN  2020-02-07 00:00:00      NaN     0.0      NaN   \n",
              "3    3      NaN      NaN  2020-02-08 00:00:00      NaN     0.0      NaN   \n",
              "4    3      NaN      NaN  2020-02-10 00:00:00      NaN     0.0      NaN   \n",
              "\n",
              "  Planting_Batch  Volume_Planted  Planting_Wk  \n",
              "0            392        198912.0          6.0  \n",
              "1            503         63840.0          6.0  \n",
              "2            614        179928.0          6.0  \n",
              "3            725        200256.0          6.0  \n",
              "4            770         13944.0          7.0  "
            ],
            "text/html": [
              "\n",
              "  <div id=\"df-c1f31209-7451-45de-9f90-5c88ec09ff0c\">\n",
              "    <div class=\"colab-df-container\">\n",
              "      <div>\n",
              "<style scoped>\n",
              "    .dataframe tbody tr th:only-of-type {\n",
              "        vertical-align: middle;\n",
              "    }\n",
              "\n",
              "    .dataframe tbody tr th {\n",
              "        vertical-align: top;\n",
              "    }\n",
              "\n",
              "    .dataframe thead th {\n",
              "        text-align: right;\n",
              "    }\n",
              "</style>\n",
              "<table border=\"1\" class=\"dataframe\">\n",
              "  <thead>\n",
              "    <tr style=\"text-align: right;\">\n",
              "      <th></th>\n",
              "      <th>Crop</th>\n",
              "      <th>Column2</th>\n",
              "      <th>Column3</th>\n",
              "      <th>Plant_Date</th>\n",
              "      <th>Column1</th>\n",
              "      <th>Region</th>\n",
              "      <th>Column4</th>\n",
              "      <th>Planting_Batch</th>\n",
              "      <th>Volume_Planted</th>\n",
              "      <th>Planting_Wk</th>\n",
              "    </tr>\n",
              "  </thead>\n",
              "  <tbody>\n",
              "    <tr>\n",
              "      <th>0</th>\n",
              "      <td>3</td>\n",
              "      <td>NaN</td>\n",
              "      <td>NaN</td>\n",
              "      <td>2020-02-06 00:00:00</td>\n",
              "      <td>NaN</td>\n",
              "      <td>0.0</td>\n",
              "      <td>NaN</td>\n",
              "      <td>392</td>\n",
              "      <td>198912.0</td>\n",
              "      <td>6.0</td>\n",
              "    </tr>\n",
              "    <tr>\n",
              "      <th>1</th>\n",
              "      <td>3</td>\n",
              "      <td>NaN</td>\n",
              "      <td>NaN</td>\n",
              "      <td>2020-02-07 00:00:00</td>\n",
              "      <td>NaN</td>\n",
              "      <td>0.0</td>\n",
              "      <td>NaN</td>\n",
              "      <td>503</td>\n",
              "      <td>63840.0</td>\n",
              "      <td>6.0</td>\n",
              "    </tr>\n",
              "    <tr>\n",
              "      <th>2</th>\n",
              "      <td>3</td>\n",
              "      <td>NaN</td>\n",
              "      <td>NaN</td>\n",
              "      <td>2020-02-07 00:00:00</td>\n",
              "      <td>NaN</td>\n",
              "      <td>0.0</td>\n",
              "      <td>NaN</td>\n",
              "      <td>614</td>\n",
              "      <td>179928.0</td>\n",
              "      <td>6.0</td>\n",
              "    </tr>\n",
              "    <tr>\n",
              "      <th>3</th>\n",
              "      <td>3</td>\n",
              "      <td>NaN</td>\n",
              "      <td>NaN</td>\n",
              "      <td>2020-02-08 00:00:00</td>\n",
              "      <td>NaN</td>\n",
              "      <td>0.0</td>\n",
              "      <td>NaN</td>\n",
              "      <td>725</td>\n",
              "      <td>200256.0</td>\n",
              "      <td>6.0</td>\n",
              "    </tr>\n",
              "    <tr>\n",
              "      <th>4</th>\n",
              "      <td>3</td>\n",
              "      <td>NaN</td>\n",
              "      <td>NaN</td>\n",
              "      <td>2020-02-10 00:00:00</td>\n",
              "      <td>NaN</td>\n",
              "      <td>0.0</td>\n",
              "      <td>NaN</td>\n",
              "      <td>770</td>\n",
              "      <td>13944.0</td>\n",
              "      <td>7.0</td>\n",
              "    </tr>\n",
              "  </tbody>\n",
              "</table>\n",
              "</div>\n",
              "      <button class=\"colab-df-convert\" onclick=\"convertToInteractive('df-c1f31209-7451-45de-9f90-5c88ec09ff0c')\"\n",
              "              title=\"Convert this dataframe to an interactive table.\"\n",
              "              style=\"display:none;\">\n",
              "        \n",
              "  <svg xmlns=\"http://www.w3.org/2000/svg\" height=\"24px\"viewBox=\"0 0 24 24\"\n",
              "       width=\"24px\">\n",
              "    <path d=\"M0 0h24v24H0V0z\" fill=\"none\"/>\n",
              "    <path d=\"M18.56 5.44l.94 2.06.94-2.06 2.06-.94-2.06-.94-.94-2.06-.94 2.06-2.06.94zm-11 1L8.5 8.5l.94-2.06 2.06-.94-2.06-.94L8.5 2.5l-.94 2.06-2.06.94zm10 10l.94 2.06.94-2.06 2.06-.94-2.06-.94-.94-2.06-.94 2.06-2.06.94z\"/><path d=\"M17.41 7.96l-1.37-1.37c-.4-.4-.92-.59-1.43-.59-.52 0-1.04.2-1.43.59L10.3 9.45l-7.72 7.72c-.78.78-.78 2.05 0 2.83L4 21.41c.39.39.9.59 1.41.59.51 0 1.02-.2 1.41-.59l7.78-7.78 2.81-2.81c.8-.78.8-2.07 0-2.86zM5.41 20L4 18.59l7.72-7.72 1.47 1.35L5.41 20z\"/>\n",
              "  </svg>\n",
              "      </button>\n",
              "      \n",
              "  <style>\n",
              "    .colab-df-container {\n",
              "      display:flex;\n",
              "      flex-wrap:wrap;\n",
              "      gap: 12px;\n",
              "    }\n",
              "\n",
              "    .colab-df-convert {\n",
              "      background-color: #E8F0FE;\n",
              "      border: none;\n",
              "      border-radius: 50%;\n",
              "      cursor: pointer;\n",
              "      display: none;\n",
              "      fill: #1967D2;\n",
              "      height: 32px;\n",
              "      padding: 0 0 0 0;\n",
              "      width: 32px;\n",
              "    }\n",
              "\n",
              "    .colab-df-convert:hover {\n",
              "      background-color: #E2EBFA;\n",
              "      box-shadow: 0px 1px 2px rgba(60, 64, 67, 0.3), 0px 1px 3px 1px rgba(60, 64, 67, 0.15);\n",
              "      fill: #174EA6;\n",
              "    }\n",
              "\n",
              "    [theme=dark] .colab-df-convert {\n",
              "      background-color: #3B4455;\n",
              "      fill: #D2E3FC;\n",
              "    }\n",
              "\n",
              "    [theme=dark] .colab-df-convert:hover {\n",
              "      background-color: #434B5C;\n",
              "      box-shadow: 0px 1px 3px 1px rgba(0, 0, 0, 0.15);\n",
              "      filter: drop-shadow(0px 1px 2px rgba(0, 0, 0, 0.3));\n",
              "      fill: #FFFFFF;\n",
              "    }\n",
              "  </style>\n",
              "\n",
              "      <script>\n",
              "        const buttonEl =\n",
              "          document.querySelector('#df-c1f31209-7451-45de-9f90-5c88ec09ff0c button.colab-df-convert');\n",
              "        buttonEl.style.display =\n",
              "          google.colab.kernel.accessAllowed ? 'block' : 'none';\n",
              "\n",
              "        async function convertToInteractive(key) {\n",
              "          const element = document.querySelector('#df-c1f31209-7451-45de-9f90-5c88ec09ff0c');\n",
              "          const dataTable =\n",
              "            await google.colab.kernel.invokeFunction('convertToInteractive',\n",
              "                                                     [key], {});\n",
              "          if (!dataTable) return;\n",
              "\n",
              "          const docLinkHtml = 'Like what you see? Visit the ' +\n",
              "            '<a target=\"_blank\" href=https://colab.research.google.com/notebooks/data_table.ipynb>data table notebook</a>'\n",
              "            + ' to learn more about interactive tables.';\n",
              "          element.innerHTML = '';\n",
              "          dataTable['output_type'] = 'display_data';\n",
              "          await google.colab.output.renderOutput(dataTable, element);\n",
              "          const docLink = document.createElement('div');\n",
              "          docLink.innerHTML = docLinkHtml;\n",
              "          element.appendChild(docLink);\n",
              "        }\n",
              "      </script>\n",
              "    </div>\n",
              "  </div>\n",
              "  "
            ]
          },
          "metadata": {},
          "execution_count": 43
        }
      ]
    },
    {
      "cell_type": "code",
      "source": [
        "plant.head()"
      ],
      "metadata": {
        "colab": {
          "base_uri": "https://localhost:8080/",
          "height": 356
        },
        "id": "o_j8JqS4BgVM",
        "outputId": "50eb5d98-9842-45ec-bb89-b8631822607b"
      },
      "execution_count": 44,
      "outputs": [
        {
          "output_type": "execute_result",
          "data": {
            "text/plain": [
              "   BatchNumber   PlantDate  Class  FreshWeight(g)  HeadWeight(g)  \\\n",
              "0          402  2020-04-11      3            15.0            NaN   \n",
              "1          402  2020-04-11      4            15.0            NaN   \n",
              "2          402  2020-04-11      1            16.0            NaN   \n",
              "3          402  2020-04-11      3            15.0            NaN   \n",
              "4          402  2020-04-11      3            15.0            NaN   \n",
              "\n",
              "   RadialDiameter(mm)  PolarDiameter(mm)  DiameterRatio  Leaves  \\\n",
              "0                 NaN                NaN            NaN    10.0   \n",
              "1                 NaN                NaN            NaN    11.0   \n",
              "2                 NaN                NaN            NaN    12.0   \n",
              "3                 NaN                NaN            NaN    10.0   \n",
              "4                 NaN                NaN            NaN    11.0   \n",
              "\n",
              "   Density(kg/L)  LeafArea(cm^2)  SquareID   CheckDate  FlightDate Remove  \n",
              "0            NaN           185.0       208  2020-04-30  2020-04-30    NaN  \n",
              "1            NaN           156.0       208  2020-04-30  2020-04-30    NaN  \n",
              "2            NaN           137.0       208  2020-04-30  2020-04-30    NaN  \n",
              "3            NaN           225.0       208  2020-04-30  2020-04-30    NaN  \n",
              "4            NaN           157.0       208  2020-04-30  2020-04-30    NaN  "
            ],
            "text/html": [
              "\n",
              "  <div id=\"df-5e2a4410-0f9a-456c-bf62-2317689f22ba\">\n",
              "    <div class=\"colab-df-container\">\n",
              "      <div>\n",
              "<style scoped>\n",
              "    .dataframe tbody tr th:only-of-type {\n",
              "        vertical-align: middle;\n",
              "    }\n",
              "\n",
              "    .dataframe tbody tr th {\n",
              "        vertical-align: top;\n",
              "    }\n",
              "\n",
              "    .dataframe thead th {\n",
              "        text-align: right;\n",
              "    }\n",
              "</style>\n",
              "<table border=\"1\" class=\"dataframe\">\n",
              "  <thead>\n",
              "    <tr style=\"text-align: right;\">\n",
              "      <th></th>\n",
              "      <th>BatchNumber</th>\n",
              "      <th>PlantDate</th>\n",
              "      <th>Class</th>\n",
              "      <th>FreshWeight(g)</th>\n",
              "      <th>HeadWeight(g)</th>\n",
              "      <th>RadialDiameter(mm)</th>\n",
              "      <th>PolarDiameter(mm)</th>\n",
              "      <th>DiameterRatio</th>\n",
              "      <th>Leaves</th>\n",
              "      <th>Density(kg/L)</th>\n",
              "      <th>LeafArea(cm^2)</th>\n",
              "      <th>SquareID</th>\n",
              "      <th>CheckDate</th>\n",
              "      <th>FlightDate</th>\n",
              "      <th>Remove</th>\n",
              "    </tr>\n",
              "  </thead>\n",
              "  <tbody>\n",
              "    <tr>\n",
              "      <th>0</th>\n",
              "      <td>402</td>\n",
              "      <td>2020-04-11</td>\n",
              "      <td>3</td>\n",
              "      <td>15.0</td>\n",
              "      <td>NaN</td>\n",
              "      <td>NaN</td>\n",
              "      <td>NaN</td>\n",
              "      <td>NaN</td>\n",
              "      <td>10.0</td>\n",
              "      <td>NaN</td>\n",
              "      <td>185.0</td>\n",
              "      <td>208</td>\n",
              "      <td>2020-04-30</td>\n",
              "      <td>2020-04-30</td>\n",
              "      <td>NaN</td>\n",
              "    </tr>\n",
              "    <tr>\n",
              "      <th>1</th>\n",
              "      <td>402</td>\n",
              "      <td>2020-04-11</td>\n",
              "      <td>4</td>\n",
              "      <td>15.0</td>\n",
              "      <td>NaN</td>\n",
              "      <td>NaN</td>\n",
              "      <td>NaN</td>\n",
              "      <td>NaN</td>\n",
              "      <td>11.0</td>\n",
              "      <td>NaN</td>\n",
              "      <td>156.0</td>\n",
              "      <td>208</td>\n",
              "      <td>2020-04-30</td>\n",
              "      <td>2020-04-30</td>\n",
              "      <td>NaN</td>\n",
              "    </tr>\n",
              "    <tr>\n",
              "      <th>2</th>\n",
              "      <td>402</td>\n",
              "      <td>2020-04-11</td>\n",
              "      <td>1</td>\n",
              "      <td>16.0</td>\n",
              "      <td>NaN</td>\n",
              "      <td>NaN</td>\n",
              "      <td>NaN</td>\n",
              "      <td>NaN</td>\n",
              "      <td>12.0</td>\n",
              "      <td>NaN</td>\n",
              "      <td>137.0</td>\n",
              "      <td>208</td>\n",
              "      <td>2020-04-30</td>\n",
              "      <td>2020-04-30</td>\n",
              "      <td>NaN</td>\n",
              "    </tr>\n",
              "    <tr>\n",
              "      <th>3</th>\n",
              "      <td>402</td>\n",
              "      <td>2020-04-11</td>\n",
              "      <td>3</td>\n",
              "      <td>15.0</td>\n",
              "      <td>NaN</td>\n",
              "      <td>NaN</td>\n",
              "      <td>NaN</td>\n",
              "      <td>NaN</td>\n",
              "      <td>10.0</td>\n",
              "      <td>NaN</td>\n",
              "      <td>225.0</td>\n",
              "      <td>208</td>\n",
              "      <td>2020-04-30</td>\n",
              "      <td>2020-04-30</td>\n",
              "      <td>NaN</td>\n",
              "    </tr>\n",
              "    <tr>\n",
              "      <th>4</th>\n",
              "      <td>402</td>\n",
              "      <td>2020-04-11</td>\n",
              "      <td>3</td>\n",
              "      <td>15.0</td>\n",
              "      <td>NaN</td>\n",
              "      <td>NaN</td>\n",
              "      <td>NaN</td>\n",
              "      <td>NaN</td>\n",
              "      <td>11.0</td>\n",
              "      <td>NaN</td>\n",
              "      <td>157.0</td>\n",
              "      <td>208</td>\n",
              "      <td>2020-04-30</td>\n",
              "      <td>2020-04-30</td>\n",
              "      <td>NaN</td>\n",
              "    </tr>\n",
              "  </tbody>\n",
              "</table>\n",
              "</div>\n",
              "      <button class=\"colab-df-convert\" onclick=\"convertToInteractive('df-5e2a4410-0f9a-456c-bf62-2317689f22ba')\"\n",
              "              title=\"Convert this dataframe to an interactive table.\"\n",
              "              style=\"display:none;\">\n",
              "        \n",
              "  <svg xmlns=\"http://www.w3.org/2000/svg\" height=\"24px\"viewBox=\"0 0 24 24\"\n",
              "       width=\"24px\">\n",
              "    <path d=\"M0 0h24v24H0V0z\" fill=\"none\"/>\n",
              "    <path d=\"M18.56 5.44l.94 2.06.94-2.06 2.06-.94-2.06-.94-.94-2.06-.94 2.06-2.06.94zm-11 1L8.5 8.5l.94-2.06 2.06-.94-2.06-.94L8.5 2.5l-.94 2.06-2.06.94zm10 10l.94 2.06.94-2.06 2.06-.94-2.06-.94-.94-2.06-.94 2.06-2.06.94z\"/><path d=\"M17.41 7.96l-1.37-1.37c-.4-.4-.92-.59-1.43-.59-.52 0-1.04.2-1.43.59L10.3 9.45l-7.72 7.72c-.78.78-.78 2.05 0 2.83L4 21.41c.39.39.9.59 1.41.59.51 0 1.02-.2 1.41-.59l7.78-7.78 2.81-2.81c.8-.78.8-2.07 0-2.86zM5.41 20L4 18.59l7.72-7.72 1.47 1.35L5.41 20z\"/>\n",
              "  </svg>\n",
              "      </button>\n",
              "      \n",
              "  <style>\n",
              "    .colab-df-container {\n",
              "      display:flex;\n",
              "      flex-wrap:wrap;\n",
              "      gap: 12px;\n",
              "    }\n",
              "\n",
              "    .colab-df-convert {\n",
              "      background-color: #E8F0FE;\n",
              "      border: none;\n",
              "      border-radius: 50%;\n",
              "      cursor: pointer;\n",
              "      display: none;\n",
              "      fill: #1967D2;\n",
              "      height: 32px;\n",
              "      padding: 0 0 0 0;\n",
              "      width: 32px;\n",
              "    }\n",
              "\n",
              "    .colab-df-convert:hover {\n",
              "      background-color: #E2EBFA;\n",
              "      box-shadow: 0px 1px 2px rgba(60, 64, 67, 0.3), 0px 1px 3px 1px rgba(60, 64, 67, 0.15);\n",
              "      fill: #174EA6;\n",
              "    }\n",
              "\n",
              "    [theme=dark] .colab-df-convert {\n",
              "      background-color: #3B4455;\n",
              "      fill: #D2E3FC;\n",
              "    }\n",
              "\n",
              "    [theme=dark] .colab-df-convert:hover {\n",
              "      background-color: #434B5C;\n",
              "      box-shadow: 0px 1px 3px 1px rgba(0, 0, 0, 0.15);\n",
              "      filter: drop-shadow(0px 1px 2px rgba(0, 0, 0, 0.3));\n",
              "      fill: #FFFFFF;\n",
              "    }\n",
              "  </style>\n",
              "\n",
              "      <script>\n",
              "        const buttonEl =\n",
              "          document.querySelector('#df-5e2a4410-0f9a-456c-bf62-2317689f22ba button.colab-df-convert');\n",
              "        buttonEl.style.display =\n",
              "          google.colab.kernel.accessAllowed ? 'block' : 'none';\n",
              "\n",
              "        async function convertToInteractive(key) {\n",
              "          const element = document.querySelector('#df-5e2a4410-0f9a-456c-bf62-2317689f22ba');\n",
              "          const dataTable =\n",
              "            await google.colab.kernel.invokeFunction('convertToInteractive',\n",
              "                                                     [key], {});\n",
              "          if (!dataTable) return;\n",
              "\n",
              "          const docLinkHtml = 'Like what you see? Visit the ' +\n",
              "            '<a target=\"_blank\" href=https://colab.research.google.com/notebooks/data_table.ipynb>data table notebook</a>'\n",
              "            + ' to learn more about interactive tables.';\n",
              "          element.innerHTML = '';\n",
              "          dataTable['output_type'] = 'display_data';\n",
              "          await google.colab.output.renderOutput(dataTable, element);\n",
              "          const docLink = document.createElement('div');\n",
              "          docLink.innerHTML = docLinkHtml;\n",
              "          element.appendChild(docLink);\n",
              "        }\n",
              "      </script>\n",
              "    </div>\n",
              "  </div>\n",
              "  "
            ]
          },
          "metadata": {},
          "execution_count": 44
        }
      ]
    },
    {
      "cell_type": "code",
      "source": [
        "weather.head()"
      ],
      "metadata": {
        "colab": {
          "base_uri": "https://localhost:8080/",
          "height": 371
        },
        "id": "8u8uNDJdBhiY",
        "outputId": "3d30ff45-899f-4aa8-fd12-616393481a2e"
      },
      "execution_count": 45,
      "outputs": [
        {
          "output_type": "execute_result",
          "data": {
            "text/plain": [
              "  Unnamed: 0.1  Solar Radiation [avg]  Precipitation [sum]  Wind Speed [avg]  \\\n",
              "0   2014-05-14                    159                  0.0               1.4   \n",
              "1   2014-05-15                    280                  0.0               0.6   \n",
              "2   2014-05-16                    186                  3.4               0.8   \n",
              "3   2014-05-17                    221                  0.0               1.0   \n",
              "4   2014-05-18                    255                  0.0               2.1   \n",
              "\n",
              "   Wind Speed [max]  Battery Voltage [last]  Leaf Wetness [time]  \\\n",
              "0               3.3                    6834                   70   \n",
              "1               2.3                    6894                  500   \n",
              "2               2.7                    6874                  375   \n",
              "3               3.3                    6874                  565   \n",
              "4               5.5                    6854                  625   \n",
              "\n",
              "   Air Temperature [avg]  Air Temperature [max]  Air Temperature [min]  \\\n",
              "0                  14.27                  18.90                   7.19   \n",
              "1                  13.51                  22.06                   3.04   \n",
              "2                  15.65                  24.24                   7.23   \n",
              "3                  17.46                  25.70                   9.93   \n",
              "4                  16.85                  24.62                   8.45   \n",
              "\n",
              "   Relative Humidity [avg]  Dew Point [avg]  Dew Point [min]  ET0 [result]  \n",
              "0                    64.95              7.0              5.6           NaN  \n",
              "1                    72.91              7.6              3.0           3.6  \n",
              "2                    74.69             10.5              6.5           2.9  \n",
              "3                    71.42             11.5              8.1           3.6  \n",
              "4                    74.45             11.4              8.3           4.2  "
            ],
            "text/html": [
              "\n",
              "  <div id=\"df-a2556038-6764-4a3f-ae14-399b95628fda\">\n",
              "    <div class=\"colab-df-container\">\n",
              "      <div>\n",
              "<style scoped>\n",
              "    .dataframe tbody tr th:only-of-type {\n",
              "        vertical-align: middle;\n",
              "    }\n",
              "\n",
              "    .dataframe tbody tr th {\n",
              "        vertical-align: top;\n",
              "    }\n",
              "\n",
              "    .dataframe thead th {\n",
              "        text-align: right;\n",
              "    }\n",
              "</style>\n",
              "<table border=\"1\" class=\"dataframe\">\n",
              "  <thead>\n",
              "    <tr style=\"text-align: right;\">\n",
              "      <th></th>\n",
              "      <th>Unnamed: 0.1</th>\n",
              "      <th>Solar Radiation [avg]</th>\n",
              "      <th>Precipitation [sum]</th>\n",
              "      <th>Wind Speed [avg]</th>\n",
              "      <th>Wind Speed [max]</th>\n",
              "      <th>Battery Voltage [last]</th>\n",
              "      <th>Leaf Wetness [time]</th>\n",
              "      <th>Air Temperature [avg]</th>\n",
              "      <th>Air Temperature [max]</th>\n",
              "      <th>Air Temperature [min]</th>\n",
              "      <th>Relative Humidity [avg]</th>\n",
              "      <th>Dew Point [avg]</th>\n",
              "      <th>Dew Point [min]</th>\n",
              "      <th>ET0 [result]</th>\n",
              "    </tr>\n",
              "  </thead>\n",
              "  <tbody>\n",
              "    <tr>\n",
              "      <th>0</th>\n",
              "      <td>2014-05-14</td>\n",
              "      <td>159</td>\n",
              "      <td>0.0</td>\n",
              "      <td>1.4</td>\n",
              "      <td>3.3</td>\n",
              "      <td>6834</td>\n",
              "      <td>70</td>\n",
              "      <td>14.27</td>\n",
              "      <td>18.90</td>\n",
              "      <td>7.19</td>\n",
              "      <td>64.95</td>\n",
              "      <td>7.0</td>\n",
              "      <td>5.6</td>\n",
              "      <td>NaN</td>\n",
              "    </tr>\n",
              "    <tr>\n",
              "      <th>1</th>\n",
              "      <td>2014-05-15</td>\n",
              "      <td>280</td>\n",
              "      <td>0.0</td>\n",
              "      <td>0.6</td>\n",
              "      <td>2.3</td>\n",
              "      <td>6894</td>\n",
              "      <td>500</td>\n",
              "      <td>13.51</td>\n",
              "      <td>22.06</td>\n",
              "      <td>3.04</td>\n",
              "      <td>72.91</td>\n",
              "      <td>7.6</td>\n",
              "      <td>3.0</td>\n",
              "      <td>3.6</td>\n",
              "    </tr>\n",
              "    <tr>\n",
              "      <th>2</th>\n",
              "      <td>2014-05-16</td>\n",
              "      <td>186</td>\n",
              "      <td>3.4</td>\n",
              "      <td>0.8</td>\n",
              "      <td>2.7</td>\n",
              "      <td>6874</td>\n",
              "      <td>375</td>\n",
              "      <td>15.65</td>\n",
              "      <td>24.24</td>\n",
              "      <td>7.23</td>\n",
              "      <td>74.69</td>\n",
              "      <td>10.5</td>\n",
              "      <td>6.5</td>\n",
              "      <td>2.9</td>\n",
              "    </tr>\n",
              "    <tr>\n",
              "      <th>3</th>\n",
              "      <td>2014-05-17</td>\n",
              "      <td>221</td>\n",
              "      <td>0.0</td>\n",
              "      <td>1.0</td>\n",
              "      <td>3.3</td>\n",
              "      <td>6874</td>\n",
              "      <td>565</td>\n",
              "      <td>17.46</td>\n",
              "      <td>25.70</td>\n",
              "      <td>9.93</td>\n",
              "      <td>71.42</td>\n",
              "      <td>11.5</td>\n",
              "      <td>8.1</td>\n",
              "      <td>3.6</td>\n",
              "    </tr>\n",
              "    <tr>\n",
              "      <th>4</th>\n",
              "      <td>2014-05-18</td>\n",
              "      <td>255</td>\n",
              "      <td>0.0</td>\n",
              "      <td>2.1</td>\n",
              "      <td>5.5</td>\n",
              "      <td>6854</td>\n",
              "      <td>625</td>\n",
              "      <td>16.85</td>\n",
              "      <td>24.62</td>\n",
              "      <td>8.45</td>\n",
              "      <td>74.45</td>\n",
              "      <td>11.4</td>\n",
              "      <td>8.3</td>\n",
              "      <td>4.2</td>\n",
              "    </tr>\n",
              "  </tbody>\n",
              "</table>\n",
              "</div>\n",
              "      <button class=\"colab-df-convert\" onclick=\"convertToInteractive('df-a2556038-6764-4a3f-ae14-399b95628fda')\"\n",
              "              title=\"Convert this dataframe to an interactive table.\"\n",
              "              style=\"display:none;\">\n",
              "        \n",
              "  <svg xmlns=\"http://www.w3.org/2000/svg\" height=\"24px\"viewBox=\"0 0 24 24\"\n",
              "       width=\"24px\">\n",
              "    <path d=\"M0 0h24v24H0V0z\" fill=\"none\"/>\n",
              "    <path d=\"M18.56 5.44l.94 2.06.94-2.06 2.06-.94-2.06-.94-.94-2.06-.94 2.06-2.06.94zm-11 1L8.5 8.5l.94-2.06 2.06-.94-2.06-.94L8.5 2.5l-.94 2.06-2.06.94zm10 10l.94 2.06.94-2.06 2.06-.94-2.06-.94-.94-2.06-.94 2.06-2.06.94z\"/><path d=\"M17.41 7.96l-1.37-1.37c-.4-.4-.92-.59-1.43-.59-.52 0-1.04.2-1.43.59L10.3 9.45l-7.72 7.72c-.78.78-.78 2.05 0 2.83L4 21.41c.39.39.9.59 1.41.59.51 0 1.02-.2 1.41-.59l7.78-7.78 2.81-2.81c.8-.78.8-2.07 0-2.86zM5.41 20L4 18.59l7.72-7.72 1.47 1.35L5.41 20z\"/>\n",
              "  </svg>\n",
              "      </button>\n",
              "      \n",
              "  <style>\n",
              "    .colab-df-container {\n",
              "      display:flex;\n",
              "      flex-wrap:wrap;\n",
              "      gap: 12px;\n",
              "    }\n",
              "\n",
              "    .colab-df-convert {\n",
              "      background-color: #E8F0FE;\n",
              "      border: none;\n",
              "      border-radius: 50%;\n",
              "      cursor: pointer;\n",
              "      display: none;\n",
              "      fill: #1967D2;\n",
              "      height: 32px;\n",
              "      padding: 0 0 0 0;\n",
              "      width: 32px;\n",
              "    }\n",
              "\n",
              "    .colab-df-convert:hover {\n",
              "      background-color: #E2EBFA;\n",
              "      box-shadow: 0px 1px 2px rgba(60, 64, 67, 0.3), 0px 1px 3px 1px rgba(60, 64, 67, 0.15);\n",
              "      fill: #174EA6;\n",
              "    }\n",
              "\n",
              "    [theme=dark] .colab-df-convert {\n",
              "      background-color: #3B4455;\n",
              "      fill: #D2E3FC;\n",
              "    }\n",
              "\n",
              "    [theme=dark] .colab-df-convert:hover {\n",
              "      background-color: #434B5C;\n",
              "      box-shadow: 0px 1px 3px 1px rgba(0, 0, 0, 0.15);\n",
              "      filter: drop-shadow(0px 1px 2px rgba(0, 0, 0, 0.3));\n",
              "      fill: #FFFFFF;\n",
              "    }\n",
              "  </style>\n",
              "\n",
              "      <script>\n",
              "        const buttonEl =\n",
              "          document.querySelector('#df-a2556038-6764-4a3f-ae14-399b95628fda button.colab-df-convert');\n",
              "        buttonEl.style.display =\n",
              "          google.colab.kernel.accessAllowed ? 'block' : 'none';\n",
              "\n",
              "        async function convertToInteractive(key) {\n",
              "          const element = document.querySelector('#df-a2556038-6764-4a3f-ae14-399b95628fda');\n",
              "          const dataTable =\n",
              "            await google.colab.kernel.invokeFunction('convertToInteractive',\n",
              "                                                     [key], {});\n",
              "          if (!dataTable) return;\n",
              "\n",
              "          const docLinkHtml = 'Like what you see? Visit the ' +\n",
              "            '<a target=\"_blank\" href=https://colab.research.google.com/notebooks/data_table.ipynb>data table notebook</a>'\n",
              "            + ' to learn more about interactive tables.';\n",
              "          element.innerHTML = '';\n",
              "          dataTable['output_type'] = 'display_data';\n",
              "          await google.colab.output.renderOutput(dataTable, element);\n",
              "          const docLink = document.createElement('div');\n",
              "          docLink.innerHTML = docLinkHtml;\n",
              "          element.appendChild(docLink);\n",
              "        }\n",
              "      </script>\n",
              "    </div>\n",
              "  </div>\n",
              "  "
            ]
          },
          "metadata": {},
          "execution_count": 45
        }
      ]
    },
    {
      "cell_type": "code",
      "source": [
        "weather.columns = ['PlantDate', 'SolarRadiation[avg]', 'Precipitation[sum]',\n",
        "       'Wind Speed[avg]', 'Wind Speed[max]', 'BatteryVoltage[last]',\n",
        "       'LeafWetness[time]', 'AirTemperature[avg]', 'AirTemperature[max]',\n",
        "       'AirTemperature[min]', 'RelativeHumidity[avg]', 'DewPoint[avg]',\n",
        "       'DewPoint[min]', 'ET0[result]']"
      ],
      "metadata": {
        "id": "W5nix-3OMo_u"
      },
      "execution_count": 46,
      "outputs": []
    },
    {
      "cell_type": "code",
      "source": [
        "data  = plant.copy()"
      ],
      "metadata": {
        "id": "4MG_eooMaul1"
      },
      "execution_count": 47,
      "outputs": []
    },
    {
      "cell_type": "code",
      "source": [
        "weather.PlantDate  = pd.to_datetime(weather.PlantDate)"
      ],
      "metadata": {
        "id": "VQxDE3dpaJIm"
      },
      "execution_count": 48,
      "outputs": []
    },
    {
      "cell_type": "code",
      "source": [
        "weather.columns"
      ],
      "metadata": {
        "colab": {
          "base_uri": "https://localhost:8080/"
        },
        "id": "0pRvPGhucLlE",
        "outputId": "1cfa7461-0215-4bee-9abe-bad871dff903"
      },
      "execution_count": 49,
      "outputs": [
        {
          "output_type": "execute_result",
          "data": {
            "text/plain": [
              "Index(['PlantDate', 'SolarRadiation[avg]', 'Precipitation[sum]',\n",
              "       'Wind Speed[avg]', 'Wind Speed[max]', 'BatteryVoltage[last]',\n",
              "       'LeafWetness[time]', 'AirTemperature[avg]', 'AirTemperature[max]',\n",
              "       'AirTemperature[min]', 'RelativeHumidity[avg]', 'DewPoint[avg]',\n",
              "       'DewPoint[min]', 'ET0[result]'],\n",
              "      dtype='object')"
            ]
          },
          "metadata": {},
          "execution_count": 49
        }
      ]
    },
    {
      "cell_type": "code",
      "source": [
        "#Converting Plantdate to a datetime\n",
        "data.PlantDate  = pd.to_datetime(data.PlantDate)"
      ],
      "metadata": {
        "id": "JpPBsBPwaaRU"
      },
      "execution_count": 50,
      "outputs": []
    },
    {
      "cell_type": "code",
      "source": [
        "#Left Join weather to the Plant date (i.e. Using the copy dataframe)\n",
        "data = pd.merge(data,weather,on = \"PlantDate\", how  = \"left\"  )"
      ],
      "metadata": {
        "id": "KEpHQj_zMW6G"
      },
      "execution_count": 51,
      "outputs": []
    },
    {
      "cell_type": "code",
      "source": [
        "data.FlightDate = pd.to_datetime(data.FlightDate)"
      ],
      "metadata": {
        "id": "Fm8X3zuKfl00"
      },
      "execution_count": 52,
      "outputs": []
    },
    {
      "cell_type": "code",
      "source": [
        "data[\"number_of_days\"] = (data[\"FlightDate\"] - data.PlantDate).dt.days"
      ],
      "metadata": {
        "id": "AOvStkaJgH2I"
      },
      "execution_count": 53,
      "outputs": []
    },
    {
      "cell_type": "code",
      "source": [
        "data  = data[data['HeadWeight(g)'].notna()]"
      ],
      "metadata": {
        "id": "BPyFjDcSuFo9"
      },
      "execution_count": 54,
      "outputs": []
    },
    {
      "cell_type": "code",
      "source": [
        "data.isnull().sum()"
      ],
      "metadata": {
        "id": "hnX9pXhLgxu0",
        "outputId": "a9adb876-71ee-47a1-a829-d40dfa3caedb",
        "colab": {
          "base_uri": "https://localhost:8080/"
        }
      },
      "execution_count": 55,
      "outputs": [
        {
          "output_type": "execute_result",
          "data": {
            "text/plain": [
              "BatchNumber                 0\n",
              "PlantDate                 174\n",
              "Class                       0\n",
              "FreshWeight(g)              0\n",
              "HeadWeight(g)               0\n",
              "RadialDiameter(mm)          0\n",
              "PolarDiameter(mm)           0\n",
              "DiameterRatio               2\n",
              "Leaves                   4754\n",
              "Density(kg/L)              82\n",
              "LeafArea(cm^2)              1\n",
              "SquareID                    0\n",
              "CheckDate                   0\n",
              "FlightDate               1452\n",
              "Remove                   4684\n",
              "SolarRadiation[avg]       174\n",
              "Precipitation[sum]        174\n",
              "Wind Speed[avg]           174\n",
              "Wind Speed[max]           174\n",
              "BatteryVoltage[last]      174\n",
              "LeafWetness[time]         174\n",
              "AirTemperature[avg]       174\n",
              "AirTemperature[max]       174\n",
              "AirTemperature[min]       174\n",
              "RelativeHumidity[avg]     174\n",
              "DewPoint[avg]             174\n",
              "DewPoint[min]             174\n",
              "ET0[result]               174\n",
              "number_of_days           1492\n",
              "dtype: int64"
            ]
          },
          "metadata": {},
          "execution_count": 55
        }
      ]
    },
    {
      "cell_type": "code",
      "source": [
        "#Creating some new columns i.e. Month and Day\n",
        "data[\"Plantmonth\"]= data.PlantDate.dt.month\n",
        "data[\"PlantDay\"] = data.PlantDate.dt.day"
      ],
      "metadata": {
        "id": "r-Pu2RG9gcAe"
      },
      "execution_count": 56,
      "outputs": []
    },
    {
      "cell_type": "code",
      "source": [
        "#Droping irrelevants columns\n",
        "data.drop([\"PlantDate\",\"CheckDate\",\"FlightDate\",\"Remove\"],axis  = 1,inplace  = True)"
      ],
      "metadata": {
        "id": "laAvRrMK0YQo"
      },
      "execution_count": 57,
      "outputs": []
    },
    {
      "cell_type": "code",
      "source": [
        "data.head()"
      ],
      "metadata": {
        "colab": {
          "base_uri": "https://localhost:8080/",
          "height": 299
        },
        "id": "4Pca3HjydzGJ",
        "outputId": "3f38d741-c760-4edb-ec71-370685ddf663"
      },
      "execution_count": 58,
      "outputs": [
        {
          "output_type": "execute_result",
          "data": {
            "text/plain": [
              "    BatchNumber  Class  FreshWeight(g)  HeadWeight(g)  RadialDiameter(mm)  \\\n",
              "75          402      2           213.0           13.0                55.0   \n",
              "76          402      4           213.0            5.0                30.0   \n",
              "77          402      5           179.0           10.0                40.0   \n",
              "78          402      5           183.0           13.0                50.0   \n",
              "79          402      3           176.0            7.0                40.0   \n",
              "\n",
              "    PolarDiameter(mm)  DiameterRatio  Leaves  Density(kg/L)  LeafArea(cm^2)  \\\n",
              "75               55.0            1.0     NaN       0.149230           730.0   \n",
              "76                5.0            6.0     NaN       2.122066           758.0   \n",
              "77               40.0            1.0     NaN       0.298416           643.0   \n",
              "78               50.0            1.0     NaN       0.198625           647.0   \n",
              "79               40.0            1.0     NaN       0.208891           694.0   \n",
              "\n",
              "    ...  AirTemperature[avg]  AirTemperature[max]  AirTemperature[min]  \\\n",
              "75  ...                14.75                24.45                 4.42   \n",
              "76  ...                14.75                24.45                 4.42   \n",
              "77  ...                14.75                24.45                 4.42   \n",
              "78  ...                14.75                24.45                 4.42   \n",
              "79  ...                14.75                24.45                 4.42   \n",
              "\n",
              "    RelativeHumidity[avg]  DewPoint[avg]  DewPoint[min]  ET0[result]  \\\n",
              "75                  64.24            6.5            4.3          3.7   \n",
              "76                  64.24            6.5            4.3          3.7   \n",
              "77                  64.24            6.5            4.3          3.7   \n",
              "78                  64.24            6.5            4.3          3.7   \n",
              "79                  64.24            6.5            4.3          3.7   \n",
              "\n",
              "    number_of_days  Plantmonth  PlantDay  \n",
              "75            19.0         4.0      11.0  \n",
              "76            19.0         4.0      11.0  \n",
              "77            19.0         4.0      11.0  \n",
              "78            19.0         4.0      11.0  \n",
              "79            19.0         4.0      11.0  \n",
              "\n",
              "[5 rows x 27 columns]"
            ],
            "text/html": [
              "\n",
              "  <div id=\"df-a0755f82-10be-4d99-be8e-78c9b78cd393\">\n",
              "    <div class=\"colab-df-container\">\n",
              "      <div>\n",
              "<style scoped>\n",
              "    .dataframe tbody tr th:only-of-type {\n",
              "        vertical-align: middle;\n",
              "    }\n",
              "\n",
              "    .dataframe tbody tr th {\n",
              "        vertical-align: top;\n",
              "    }\n",
              "\n",
              "    .dataframe thead th {\n",
              "        text-align: right;\n",
              "    }\n",
              "</style>\n",
              "<table border=\"1\" class=\"dataframe\">\n",
              "  <thead>\n",
              "    <tr style=\"text-align: right;\">\n",
              "      <th></th>\n",
              "      <th>BatchNumber</th>\n",
              "      <th>Class</th>\n",
              "      <th>FreshWeight(g)</th>\n",
              "      <th>HeadWeight(g)</th>\n",
              "      <th>RadialDiameter(mm)</th>\n",
              "      <th>PolarDiameter(mm)</th>\n",
              "      <th>DiameterRatio</th>\n",
              "      <th>Leaves</th>\n",
              "      <th>Density(kg/L)</th>\n",
              "      <th>LeafArea(cm^2)</th>\n",
              "      <th>...</th>\n",
              "      <th>AirTemperature[avg]</th>\n",
              "      <th>AirTemperature[max]</th>\n",
              "      <th>AirTemperature[min]</th>\n",
              "      <th>RelativeHumidity[avg]</th>\n",
              "      <th>DewPoint[avg]</th>\n",
              "      <th>DewPoint[min]</th>\n",
              "      <th>ET0[result]</th>\n",
              "      <th>number_of_days</th>\n",
              "      <th>Plantmonth</th>\n",
              "      <th>PlantDay</th>\n",
              "    </tr>\n",
              "  </thead>\n",
              "  <tbody>\n",
              "    <tr>\n",
              "      <th>75</th>\n",
              "      <td>402</td>\n",
              "      <td>2</td>\n",
              "      <td>213.0</td>\n",
              "      <td>13.0</td>\n",
              "      <td>55.0</td>\n",
              "      <td>55.0</td>\n",
              "      <td>1.0</td>\n",
              "      <td>NaN</td>\n",
              "      <td>0.149230</td>\n",
              "      <td>730.0</td>\n",
              "      <td>...</td>\n",
              "      <td>14.75</td>\n",
              "      <td>24.45</td>\n",
              "      <td>4.42</td>\n",
              "      <td>64.24</td>\n",
              "      <td>6.5</td>\n",
              "      <td>4.3</td>\n",
              "      <td>3.7</td>\n",
              "      <td>19.0</td>\n",
              "      <td>4.0</td>\n",
              "      <td>11.0</td>\n",
              "    </tr>\n",
              "    <tr>\n",
              "      <th>76</th>\n",
              "      <td>402</td>\n",
              "      <td>4</td>\n",
              "      <td>213.0</td>\n",
              "      <td>5.0</td>\n",
              "      <td>30.0</td>\n",
              "      <td>5.0</td>\n",
              "      <td>6.0</td>\n",
              "      <td>NaN</td>\n",
              "      <td>2.122066</td>\n",
              "      <td>758.0</td>\n",
              "      <td>...</td>\n",
              "      <td>14.75</td>\n",
              "      <td>24.45</td>\n",
              "      <td>4.42</td>\n",
              "      <td>64.24</td>\n",
              "      <td>6.5</td>\n",
              "      <td>4.3</td>\n",
              "      <td>3.7</td>\n",
              "      <td>19.0</td>\n",
              "      <td>4.0</td>\n",
              "      <td>11.0</td>\n",
              "    </tr>\n",
              "    <tr>\n",
              "      <th>77</th>\n",
              "      <td>402</td>\n",
              "      <td>5</td>\n",
              "      <td>179.0</td>\n",
              "      <td>10.0</td>\n",
              "      <td>40.0</td>\n",
              "      <td>40.0</td>\n",
              "      <td>1.0</td>\n",
              "      <td>NaN</td>\n",
              "      <td>0.298416</td>\n",
              "      <td>643.0</td>\n",
              "      <td>...</td>\n",
              "      <td>14.75</td>\n",
              "      <td>24.45</td>\n",
              "      <td>4.42</td>\n",
              "      <td>64.24</td>\n",
              "      <td>6.5</td>\n",
              "      <td>4.3</td>\n",
              "      <td>3.7</td>\n",
              "      <td>19.0</td>\n",
              "      <td>4.0</td>\n",
              "      <td>11.0</td>\n",
              "    </tr>\n",
              "    <tr>\n",
              "      <th>78</th>\n",
              "      <td>402</td>\n",
              "      <td>5</td>\n",
              "      <td>183.0</td>\n",
              "      <td>13.0</td>\n",
              "      <td>50.0</td>\n",
              "      <td>50.0</td>\n",
              "      <td>1.0</td>\n",
              "      <td>NaN</td>\n",
              "      <td>0.198625</td>\n",
              "      <td>647.0</td>\n",
              "      <td>...</td>\n",
              "      <td>14.75</td>\n",
              "      <td>24.45</td>\n",
              "      <td>4.42</td>\n",
              "      <td>64.24</td>\n",
              "      <td>6.5</td>\n",
              "      <td>4.3</td>\n",
              "      <td>3.7</td>\n",
              "      <td>19.0</td>\n",
              "      <td>4.0</td>\n",
              "      <td>11.0</td>\n",
              "    </tr>\n",
              "    <tr>\n",
              "      <th>79</th>\n",
              "      <td>402</td>\n",
              "      <td>3</td>\n",
              "      <td>176.0</td>\n",
              "      <td>7.0</td>\n",
              "      <td>40.0</td>\n",
              "      <td>40.0</td>\n",
              "      <td>1.0</td>\n",
              "      <td>NaN</td>\n",
              "      <td>0.208891</td>\n",
              "      <td>694.0</td>\n",
              "      <td>...</td>\n",
              "      <td>14.75</td>\n",
              "      <td>24.45</td>\n",
              "      <td>4.42</td>\n",
              "      <td>64.24</td>\n",
              "      <td>6.5</td>\n",
              "      <td>4.3</td>\n",
              "      <td>3.7</td>\n",
              "      <td>19.0</td>\n",
              "      <td>4.0</td>\n",
              "      <td>11.0</td>\n",
              "    </tr>\n",
              "  </tbody>\n",
              "</table>\n",
              "<p>5 rows × 27 columns</p>\n",
              "</div>\n",
              "      <button class=\"colab-df-convert\" onclick=\"convertToInteractive('df-a0755f82-10be-4d99-be8e-78c9b78cd393')\"\n",
              "              title=\"Convert this dataframe to an interactive table.\"\n",
              "              style=\"display:none;\">\n",
              "        \n",
              "  <svg xmlns=\"http://www.w3.org/2000/svg\" height=\"24px\"viewBox=\"0 0 24 24\"\n",
              "       width=\"24px\">\n",
              "    <path d=\"M0 0h24v24H0V0z\" fill=\"none\"/>\n",
              "    <path d=\"M18.56 5.44l.94 2.06.94-2.06 2.06-.94-2.06-.94-.94-2.06-.94 2.06-2.06.94zm-11 1L8.5 8.5l.94-2.06 2.06-.94-2.06-.94L8.5 2.5l-.94 2.06-2.06.94zm10 10l.94 2.06.94-2.06 2.06-.94-2.06-.94-.94-2.06-.94 2.06-2.06.94z\"/><path d=\"M17.41 7.96l-1.37-1.37c-.4-.4-.92-.59-1.43-.59-.52 0-1.04.2-1.43.59L10.3 9.45l-7.72 7.72c-.78.78-.78 2.05 0 2.83L4 21.41c.39.39.9.59 1.41.59.51 0 1.02-.2 1.41-.59l7.78-7.78 2.81-2.81c.8-.78.8-2.07 0-2.86zM5.41 20L4 18.59l7.72-7.72 1.47 1.35L5.41 20z\"/>\n",
              "  </svg>\n",
              "      </button>\n",
              "      \n",
              "  <style>\n",
              "    .colab-df-container {\n",
              "      display:flex;\n",
              "      flex-wrap:wrap;\n",
              "      gap: 12px;\n",
              "    }\n",
              "\n",
              "    .colab-df-convert {\n",
              "      background-color: #E8F0FE;\n",
              "      border: none;\n",
              "      border-radius: 50%;\n",
              "      cursor: pointer;\n",
              "      display: none;\n",
              "      fill: #1967D2;\n",
              "      height: 32px;\n",
              "      padding: 0 0 0 0;\n",
              "      width: 32px;\n",
              "    }\n",
              "\n",
              "    .colab-df-convert:hover {\n",
              "      background-color: #E2EBFA;\n",
              "      box-shadow: 0px 1px 2px rgba(60, 64, 67, 0.3), 0px 1px 3px 1px rgba(60, 64, 67, 0.15);\n",
              "      fill: #174EA6;\n",
              "    }\n",
              "\n",
              "    [theme=dark] .colab-df-convert {\n",
              "      background-color: #3B4455;\n",
              "      fill: #D2E3FC;\n",
              "    }\n",
              "\n",
              "    [theme=dark] .colab-df-convert:hover {\n",
              "      background-color: #434B5C;\n",
              "      box-shadow: 0px 1px 3px 1px rgba(0, 0, 0, 0.15);\n",
              "      filter: drop-shadow(0px 1px 2px rgba(0, 0, 0, 0.3));\n",
              "      fill: #FFFFFF;\n",
              "    }\n",
              "  </style>\n",
              "\n",
              "      <script>\n",
              "        const buttonEl =\n",
              "          document.querySelector('#df-a0755f82-10be-4d99-be8e-78c9b78cd393 button.colab-df-convert');\n",
              "        buttonEl.style.display =\n",
              "          google.colab.kernel.accessAllowed ? 'block' : 'none';\n",
              "\n",
              "        async function convertToInteractive(key) {\n",
              "          const element = document.querySelector('#df-a0755f82-10be-4d99-be8e-78c9b78cd393');\n",
              "          const dataTable =\n",
              "            await google.colab.kernel.invokeFunction('convertToInteractive',\n",
              "                                                     [key], {});\n",
              "          if (!dataTable) return;\n",
              "\n",
              "          const docLinkHtml = 'Like what you see? Visit the ' +\n",
              "            '<a target=\"_blank\" href=https://colab.research.google.com/notebooks/data_table.ipynb>data table notebook</a>'\n",
              "            + ' to learn more about interactive tables.';\n",
              "          element.innerHTML = '';\n",
              "          dataTable['output_type'] = 'display_data';\n",
              "          await google.colab.output.renderOutput(dataTable, element);\n",
              "          const docLink = document.createElement('div');\n",
              "          docLink.innerHTML = docLinkHtml;\n",
              "          element.appendChild(docLink);\n",
              "        }\n",
              "      </script>\n",
              "    </div>\n",
              "  </div>\n",
              "  "
            ]
          },
          "metadata": {},
          "execution_count": 58
        }
      ]
    },
    {
      "cell_type": "code",
      "source": [
        "data  = data.reset_index()\n",
        "data.drop(\"index\",axis  = 1 , inplace  = True)"
      ],
      "metadata": {
        "id": "FBmQ0Xya6aGy"
      },
      "execution_count": 59,
      "outputs": []
    },
    {
      "cell_type": "code",
      "source": [
        "data.dtypes"
      ],
      "metadata": {
        "colab": {
          "base_uri": "https://localhost:8080/"
        },
        "id": "A4Gm4IHCikkk",
        "outputId": "3849daca-9249-4a11-9672-1e53f270adc4"
      },
      "execution_count": 60,
      "outputs": [
        {
          "output_type": "execute_result",
          "data": {
            "text/plain": [
              "BatchNumber                int64\n",
              "Class                      int64\n",
              "FreshWeight(g)           float64\n",
              "HeadWeight(g)            float64\n",
              "RadialDiameter(mm)       float64\n",
              "PolarDiameter(mm)        float64\n",
              "DiameterRatio            float64\n",
              "Leaves                   float64\n",
              "Density(kg/L)            float64\n",
              "LeafArea(cm^2)           float64\n",
              "SquareID                   int64\n",
              "SolarRadiation[avg]      float64\n",
              "Precipitation[sum]       float64\n",
              "Wind Speed[avg]          float64\n",
              "Wind Speed[max]          float64\n",
              "BatteryVoltage[last]     float64\n",
              "LeafWetness[time]        float64\n",
              "AirTemperature[avg]      float64\n",
              "AirTemperature[max]      float64\n",
              "AirTemperature[min]      float64\n",
              "RelativeHumidity[avg]    float64\n",
              "DewPoint[avg]            float64\n",
              "DewPoint[min]            float64\n",
              "ET0[result]              float64\n",
              "number_of_days           float64\n",
              "Plantmonth               float64\n",
              "PlantDay                 float64\n",
              "dtype: object"
            ]
          },
          "metadata": {},
          "execution_count": 60
        }
      ]
    },
    {
      "cell_type": "markdown",
      "source": [
        "Checking the distribution of the target columns"
      ],
      "metadata": {
        "id": "kb4Y_cnOjumD"
      }
    },
    {
      "cell_type": "code",
      "source": [
        "sns.distplot(data['HeadWeight(g)'] , fit=norm);\n",
        "\n",
        "# Getting the fitted parameters used by the function\n",
        "(mu, sigma) = norm.fit(data['HeadWeight(g)'])\n",
        "print( '\\n mu = {:.2f} and sigma = {:.2f}\\n'.format(mu, sigma))\n",
        "\n",
        "#Ploting the distribution\n",
        "plt.legend(['Normal dist. ($\\mu=$ {:.2f} and $\\sigma=$ {:.2f} )'.format(mu, sigma)],\n",
        "            loc='best')\n",
        "plt.ylabel('Frequency')\n",
        "plt.title('HeadWeight(g) distribution')\n",
        "\n",
        "#Getting also the QQ-plot\n",
        "fig = plt.figure()\n",
        "res = stats.probplot(data['HeadWeight(g)'], plot=plt)\n",
        "plt.show()"
      ],
      "metadata": {
        "colab": {
          "base_uri": "https://localhost:8080/",
          "height": 680
        },
        "id": "JAkzcIADjt7k",
        "outputId": "977079c6-eec0-42b6-9747-59aebcc262aa"
      },
      "execution_count": 61,
      "outputs": [
        {
          "output_type": "stream",
          "name": "stderr",
          "text": [
            "/usr/local/lib/python3.7/dist-packages/seaborn/distributions.py:2619: FutureWarning: `distplot` is a deprecated function and will be removed in a future version. Please adapt your code to use either `displot` (a figure-level function with similar flexibility) or `histplot` (an axes-level function for histograms).\n",
            "  warnings.warn(msg, FutureWarning)\n"
          ]
        },
        {
          "output_type": "stream",
          "name": "stdout",
          "text": [
            "\n",
            " mu = 183.35 and sigma = 187.22\n",
            "\n"
          ]
        },
        {
          "output_type": "display_data",
          "data": {
            "text/plain": [
              "<Figure size 432x288 with 1 Axes>"
            ],
            "image/png": "[encoded data removed]"
          },
          "metadata": {
            "needs_background": "light"
          }
        },
        {
          "output_type": "display_data",
          "data": {
            "text/plain": [
              "<Figure size 432x288 with 1 Axes>"
            ],
            "image/png": "[encoded data removed]"
          },
          "metadata": {
            "needs_background": "light"
          }
        }
      ]
    },
    {
      "cell_type": "code",
      "source": [
        "sns.distplot(data['RadialDiameter(mm)'] , fit=norm);\n",
        "\n",
        "# Getting the fitted parameters used by the function\n",
        "(mu, sigma) = norm.fit(data['RadialDiameter(mm)'])\n",
        "print( '\\n mu = {:.2f} and sigma = {:.2f}\\n'.format(mu, sigma))\n",
        "\n",
        "#Ploting the distribution\n",
        "plt.legend(['Normal dist. ($\\mu=$ {:.2f} and $\\sigma=$ {:.2f} )'.format(mu, sigma)],\n",
        "            loc='best')\n",
        "plt.ylabel('Frequency')\n",
        "plt.title('RadialDiameter(mm) distribution')\n",
        "\n",
        "#Getting also the QQ-plot\n",
        "fig = plt.figure()\n",
        "res = stats.probplot(data['RadialDiameter(mm)'], plot=plt)\n",
        "plt.show()"
      ],
      "metadata": {
        "colab": {
          "base_uri": "https://localhost:8080/",
          "height": 680
        },
        "id": "TNJxbLLYikXR",
        "outputId": "2cad1699-1b9c-4b2a-8f1d-0d701a1bcdd8"
      },
      "execution_count": 62,
      "outputs": [
        {
          "output_type": "stream",
          "name": "stderr",
          "text": [
            "/usr/local/lib/python3.7/dist-packages/seaborn/distributions.py:2619: FutureWarning: `distplot` is a deprecated function and will be removed in a future version. Please adapt your code to use either `displot` (a figure-level function with similar flexibility) or `histplot` (an axes-level function for histograms).\n",
            "  warnings.warn(msg, FutureWarning)\n"
          ]
        },
        {
          "output_type": "stream",
          "name": "stdout",
          "text": [
            "\n",
            " mu = 99.32 and sigma = 42.70\n",
            "\n"
          ]
        },
        {
          "output_type": "display_data",
          "data": {
            "text/plain": [
              "<Figure size 432x288 with 1 Axes>"
            ],
            "image/png": "[encoded data removed]"
          },
          "metadata": {
            "needs_background": "light"
          }
        },
        {
          "output_type": "display_data",
          "data": {
            "text/plain": [
              "<Figure size 432x288 with 1 Axes>"
            ],
            "image/png": "[encoded data removed]"
          },
          "metadata": {
            "needs_background": "light"
          }
        }
      ]
    },
    {
      "cell_type": "code",
      "source": [
        "sns.distplot(data['PolarDiameter(mm)'] , fit=norm);\n",
        "\n",
        "# Getting the fitted parameters used by the function\n",
        "(mu, sigma) = norm.fit(data['PolarDiameter(mm)'])\n",
        "print( '\\n mu = {:.2f} and sigma = {:.2f}\\n'.format(mu, sigma))\n",
        "\n",
        "#Ploting the distribution\n",
        "plt.legend(['Normal dist. ($\\mu=$ {:.2f} and $\\sigma=$ {:.2f} )'.format(mu, sigma)],\n",
        "            loc='best')\n",
        "plt.ylabel('Frequency')\n",
        "plt.title('PolarDiameter(mm) distribution')\n",
        "\n",
        "#Getting also the QQ-plot\n",
        "fig = plt.figure()\n",
        "res = stats.probplot(data['PolarDiameter(mm)'], plot=plt)\n",
        "plt.show()"
      ],
      "metadata": {
        "colab": {
          "base_uri": "https://localhost:8080/",
          "height": 680
        },
        "id": "hqxO5piIkYXE",
        "outputId": "601f1937-7ff5-4449-bd2d-e04fda90e27b"
      },
      "execution_count": 63,
      "outputs": [
        {
          "output_type": "stream",
          "name": "stderr",
          "text": [
            "/usr/local/lib/python3.7/dist-packages/seaborn/distributions.py:2619: FutureWarning: `distplot` is a deprecated function and will be removed in a future version. Please adapt your code to use either `displot` (a figure-level function with similar flexibility) or `histplot` (an axes-level function for histograms).\n",
            "  warnings.warn(msg, FutureWarning)\n"
          ]
        },
        {
          "output_type": "stream",
          "name": "stdout",
          "text": [
            "\n",
            " mu = 96.55 and sigma = 34.91\n",
            "\n"
          ]
        },
        {
          "output_type": "display_data",
          "data": {
            "text/plain": [
              "<Figure size 432x288 with 1 Axes>"
            ],
            "image/png": "[encoded data removed]"
          },
          "metadata": {
            "needs_background": "light"
          }
        },
        {
          "output_type": "display_data",
          "data": {
            "text/plain": [
              "<Figure size 432x288 with 1 Axes>"
            ],
            "image/png": "[encoded data removed]"
          },
          "metadata": {
            "needs_background": "light"
          }
        }
      ]
    },
    {
      "cell_type": "code",
      "source": [
        "data.columns = ['BatchNumber', 'Class', 'FreshWeight(g)', 'HeadWeight(g)',\n",
        "       'RadialDiameter(mm)', 'PolarDiameter(mm)', 'DiameterRatio', 'Leaves',\n",
        "       'Density(kg/L)', 'LeafArea(cm2)', 'SquareID', 'SolarRadiationavg',\n",
        "       'Precipitationsum', 'Wind Speedavg', 'Wind Speedmax',\n",
        "       'BatteryVoltagelast', 'LeafWetnesstime', 'AirTemperatureavg',\n",
        "       'AirTemperaturemax', 'AirTemperaturemin', 'RelativeHumidityavg',\n",
        "       'DewPointavg', 'DewPointmin', 'ET0result', 'number_of_days',\n",
        "       'Plantmonth', 'PlantDay']"
      ],
      "metadata": {
        "id": "PfChapH59mlw"
      },
      "execution_count": 64,
      "outputs": []
    },
    {
      "cell_type": "code",
      "source": [
        "X  = data.drop(['HeadWeight(g)', 'RadialDiameter(mm)', 'PolarDiameter(mm)',\"Leaves\"], axis  = 1)\n",
        "y = data[['HeadWeight(g)', 'RadialDiameter(mm)', 'PolarDiameter(mm)']]"
      ],
      "metadata": {
        "id": "cp72gh9UBv2b"
      },
      "execution_count": 65,
      "outputs": []
    },
    {
      "cell_type": "code",
      "source": [
        "X.shape"
      ],
      "metadata": {
        "colab": {
          "base_uri": "https://localhost:8080/"
        },
        "id": "P1cLue03PjkO",
        "outputId": "9203bba8-2c25-44f7-d3aa-e16bea2e0442"
      },
      "execution_count": 66,
      "outputs": [
        {
          "output_type": "execute_result",
          "data": {
            "text/plain": [
              "(4754, 23)"
            ]
          },
          "metadata": {},
          "execution_count": 66
        }
      ]
    },
    {
      "cell_type": "code",
      "source": [
        "X.isnull().sum()"
      ],
      "metadata": {
        "colab": {
          "base_uri": "https://localhost:8080/"
        },
        "id": "wYpYhRbqPdsZ",
        "outputId": "62416566-0f54-4eb1-9401-44c2dfd26e94"
      },
      "execution_count": 67,
      "outputs": [
        {
          "output_type": "execute_result",
          "data": {
            "text/plain": [
              "BatchNumber               0\n",
              "Class                     0\n",
              "FreshWeight(g)            0\n",
              "DiameterRatio             2\n",
              "Density(kg/L)            82\n",
              "LeafArea(cm2)             1\n",
              "SquareID                  0\n",
              "SolarRadiationavg       174\n",
              "Precipitationsum        174\n",
              "Wind Speedavg           174\n",
              "Wind Speedmax           174\n",
              "BatteryVoltagelast      174\n",
              "LeafWetnesstime         174\n",
              "AirTemperatureavg       174\n",
              "AirTemperaturemax       174\n",
              "AirTemperaturemin       174\n",
              "RelativeHumidityavg     174\n",
              "DewPointavg             174\n",
              "DewPointmin             174\n",
              "ET0result               174\n",
              "number_of_days         1492\n",
              "Plantmonth              174\n",
              "PlantDay                174\n",
              "dtype: int64"
            ]
          },
          "metadata": {},
          "execution_count": 67
        }
      ]
    },
    {
      "cell_type": "markdown",
      "source": [
        "Initiating modelling using Xgboost and Lightgbm and Cross Validation using K Folds"
      ],
      "metadata": {
        "id": "CuNNj92M_UF7"
      }
    },
    {
      "cell_type": "code",
      "source": [
        "from sklearn.metrics import accuracy_score,confusion_matrix,roc_auc_score\n",
        "from sklearn.metrics import mean_squared_error,r2_score\n",
        "\n",
        "errcb=[]\n",
        "y_pred_totcb=[]\n",
        "from sklearn.model_selection import KFold,StratifiedKFold, TimeSeriesSplit\n",
        "splits = 5\n",
        "fold=KFold(n_splits=splits)\n",
        "i=1\n",
        "for train_index, test_index in fold.split(X,y):\n",
        "    X_train, X_test = X.iloc[train_index], X.iloc[test_index]\n",
        "    y_train, y_test = y.iloc[train_index], y.iloc[test_index]\n",
        "    \n",
        "    model_xgb = xgb.XGBRegressor(colsample_bytree=0.4603, gamma=0.0468, \n",
        "                             learning_rate=0.05, max_depth=3, \n",
        "                             min_child_weight=1.7817, n_estimators=2200,\n",
        "                             reg_alpha=0.4640, reg_lambda=0.8571,\n",
        "                             subsample=0.5213, silent=1,\n",
        "                             random_state =7, nthread = -1)\n",
        "\n",
        "    clf_xgb =  MultiOutputRegressor(model_xgb).fit(X_train, y_train)\n",
        "\n",
        "    xgb_pred = clf_xgb.predict(X_test)\n",
        "  \n",
        "    print(\"folds\")\n",
        "    print(\"--------------------------------------------------------------------------------------------------\")\n",
        "    print(\"xgb mean squared error of HeadWeight {0}\".format(mean_squared_error(y_test[\"HeadWeight(g)\"], xgb_pred[:,:1])))\n",
        "    print(\"xgb mean squared error of RadialDiameter {0}\".format(mean_squared_error(y_test[\"RadialDiameter(mm)\"], xgb_pred[:,1:2])))\n",
        "    print(\"xgb mean squared error of PolarDiameter {0}\".format(mean_squared_error(y_test[\"PolarDiameter(mm)\"], xgb_pred[:,2:])))\n",
        "  "
      ],
      "metadata": {
        "colab": {
          "base_uri": "https://localhost:8080/"
        },
        "id": "1q_SDGZMwEh2",
        "outputId": "38d5a5de-6ba2-43ba-f4b1-72b485cf9f10"
      },
      "execution_count": 68,
      "outputs": [
        {
          "output_type": "stream",
          "name": "stdout",
          "text": [
            "folds\n",
            "--------------------------------------------------------------------------------------------------\n",
            "xgb mean squared error of HeadWeight 11672.142440102274\n",
            "xgb mean squared error of RadialDiameter 360.0181813085388\n",
            "xgb mean squared error of PolarDiameter 350.00275071303986\n",
            "folds\n",
            "--------------------------------------------------------------------------------------------------\n",
            "xgb mean squared error of HeadWeight 8839.714284179741\n",
            "xgb mean squared error of RadialDiameter 390.4538048762284\n",
            "xgb mean squared error of PolarDiameter 368.1751077489391\n",
            "folds\n",
            "--------------------------------------------------------------------------------------------------\n",
            "xgb mean squared error of HeadWeight 13652.70046874469\n",
            "xgb mean squared error of RadialDiameter 257.1333634339991\n",
            "xgb mean squared error of PolarDiameter 184.64798263012352\n",
            "folds\n",
            "--------------------------------------------------------------------------------------------------\n",
            "xgb mean squared error of HeadWeight 1772.7698597367526\n",
            "xgb mean squared error of RadialDiameter 180.17791937089174\n",
            "xgb mean squared error of PolarDiameter 284.02848444678335\n",
            "folds\n",
            "--------------------------------------------------------------------------------------------------\n",
            "xgb mean squared error of HeadWeight 1769.1406238356717\n",
            "xgb mean squared error of RadialDiameter 393.21781108681813\n",
            "xgb mean squared error of PolarDiameter 625.4095246867812\n"
          ]
        }
      ]
    },
    {
      "cell_type": "code",
      "source": [
        "errcb=[]\n",
        "y_pred_totcb=[]\n",
        "from sklearn.model_selection import KFold,StratifiedKFold, TimeSeriesSplit\n",
        "splits = 5\n",
        "fold=KFold(n_splits=splits)\n",
        "i=1\n",
        "for train_index, test_index in fold.split(X,y):\n",
        "    X_train, X_test = X.iloc[train_index], X.iloc[test_index]\n",
        "    y_train, y_test = y.iloc[train_index], y.iloc[test_index]\n",
        "    \n",
        "    model_lgb = LGBMRegressor(learning_rate=0.05, max_depth=3 )\n",
        "\n",
        "\n",
        "    clf_lgb =  MultiOutputRegressor(model_lgb).fit(X_train, y_train)\n",
        "\n",
        "    lgb_pred  = clf_lgb.predict(X_test)\n",
        "  \n",
        "    print(\"folds\")\n",
        "    print(\"--------------------------------------------------------------------------------------------------\")\n",
        "    print(\"lgb mean squared error of HeadWeight {0}\".format(mean_squared_error(y_test[\"HeadWeight(g)\"], lgb_pred[:,:1])))\n",
        "    print(\"lgb mean squared error of RadialDiameter {0}\".format(mean_squared_error(y_test[\"RadialDiameter(mm)\"], lgb_pred[:,1:2])))\n",
        "    print(\"lgb mean squared error of PolarDiameter {0}\".format(mean_squared_error(y_test[\"PolarDiameter(mm)\"], lgb_pred[:,2:])))"
      ],
      "metadata": {
        "colab": {
          "base_uri": "https://localhost:8080/"
        },
        "id": "dn88zxdJ7ZEr",
        "outputId": "e35ddc97-2205-4e44-e197-ea6c82958b26"
      },
      "execution_count": 69,
      "outputs": [
        {
          "output_type": "stream",
          "name": "stdout",
          "text": [
            "folds\n",
            "--------------------------------------------------------------------------------------------------\n",
            "lgb mean squared error of HeadWeight 8833.634116774767\n",
            "lgb mean squared error of RadialDiameter 449.1075114854583\n",
            "lgb mean squared error of PolarDiameter 407.92561332742974\n",
            "folds\n",
            "--------------------------------------------------------------------------------------------------\n",
            "lgb mean squared error of HeadWeight 3611.7572025516743\n",
            "lgb mean squared error of RadialDiameter 183.7307341753888\n",
            "lgb mean squared error of PolarDiameter 195.82979769614192\n",
            "folds\n",
            "--------------------------------------------------------------------------------------------------\n",
            "lgb mean squared error of HeadWeight 11256.849403125927\n",
            "lgb mean squared error of RadialDiameter 228.46416098884455\n",
            "lgb mean squared error of PolarDiameter 259.78731831702976\n",
            "folds\n",
            "--------------------------------------------------------------------------------------------------\n",
            "lgb mean squared error of HeadWeight 1491.1369337505414\n",
            "lgb mean squared error of RadialDiameter 161.93264196966706\n",
            "lgb mean squared error of PolarDiameter 211.84514032237186\n",
            "folds\n",
            "--------------------------------------------------------------------------------------------------\n",
            "lgb mean squared error of HeadWeight 1601.3022353672457\n",
            "lgb mean squared error of RadialDiameter 396.2580928073796\n",
            "lgb mean squared error of PolarDiameter 639.0108581927585\n"
          ]
        }
      ]
    },
    {
      "cell_type": "code",
      "source": [
        "# model_xgb = xgb.XGBRegressor(colsample_bytree=0.4603, gamma=0.0468, \n",
        "#                              learning_rate=0.05, max_depth=3, \n",
        "#                              min_child_weight=1.7817, n_estimators=2200,\n",
        "#                              reg_alpha=0.4640, reg_lambda=0.8571,\n",
        "#                              subsample=0.5213, silent=1,\n",
        "#                              random_state =7, nthread = -1)"
      ],
      "metadata": {
        "id": "sPgqXMiSkYJi"
      },
      "execution_count": 70,
      "outputs": []
    },
    {
      "cell_type": "code",
      "source": [
        "# model_lgb = LGBMRegressor(learning_rate=0.05, max_depth=3)"
      ],
      "metadata": {
        "id": "M2vgAxSh_HYX"
      },
      "execution_count": 71,
      "outputs": []
    },
    {
      "cell_type": "code",
      "source": [
        "# model1 = MultiOutputRegressor(model_xgb).fit(X_train, y_train)\n",
        "# model2  = MultiOutputRegressor(model_lgb).fit(X_train, y_train)"
      ],
      "metadata": {
        "id": "LY0oLDkThu5p"
      },
      "execution_count": 72,
      "outputs": []
    },
    {
      "cell_type": "code",
      "source": [
        "# xgb_pred  = model1.predict(X_test)\n",
        "# lgb_pred  = model2.predict(X_test)"
      ],
      "metadata": {
        "id": "COfYPilEB3Pw"
      },
      "execution_count": 73,
      "outputs": []
    },
    {
      "cell_type": "code",
      "source": [
        "y_test"
      ],
      "metadata": {
        "colab": {
          "base_uri": "https://localhost:8080/",
          "height": 423
        },
        "id": "Os1LnrEcFA9B",
        "outputId": "9dd8a98c-4a1d-4cbf-f67f-e3a8ea9b846d"
      },
      "execution_count": 74,
      "outputs": [
        {
          "output_type": "execute_result",
          "data": {
            "text/plain": [
              "      HeadWeight(g)  RadialDiameter(mm)  PolarDiameter(mm)\n",
              "3804           58.0                80.0               83.0\n",
              "3805           84.0                90.0              130.0\n",
              "3806           83.0               105.0               94.0\n",
              "3807          174.0               113.0               95.0\n",
              "3808          120.0               100.0               88.0\n",
              "...             ...                 ...                ...\n",
              "4749           12.0                50.0               55.0\n",
              "4750            8.0                45.0               85.0\n",
              "4751           23.0                60.0               80.0\n",
              "4752           10.0                45.0               80.0\n",
              "4753           18.0                35.0              102.0\n",
              "\n",
              "[950 rows x 3 columns]"
            ],
            "text/html": [
              "\n",
              "  <div id=\"df-3827eabe-3008-41ec-9a0f-f6d6398f96cd\">\n",
              "    <div class=\"colab-df-container\">\n",
              "      <div>\n",
              "<style scoped>\n",
              "    .dataframe tbody tr th:only-of-type {\n",
              "        vertical-align: middle;\n",
              "    }\n",
              "\n",
              "    .dataframe tbody tr th {\n",
              "        vertical-align: top;\n",
              "    }\n",
              "\n",
              "    .dataframe thead th {\n",
              "        text-align: right;\n",
              "    }\n",
              "</style>\n",
              "<table border=\"1\" class=\"dataframe\">\n",
              "  <thead>\n",
              "    <tr style=\"text-align: right;\">\n",
              "      <th></th>\n",
              "      <th>HeadWeight(g)</th>\n",
              "      <th>RadialDiameter(mm)</th>\n",
              "      <th>PolarDiameter(mm)</th>\n",
              "    </tr>\n",
              "  </thead>\n",
              "  <tbody>\n",
              "    <tr>\n",
              "      <th>3804</th>\n",
              "      <td>58.0</td>\n",
              "      <td>80.0</td>\n",
              "      <td>83.0</td>\n",
              "    </tr>\n",
              "    <tr>\n",
              "      <th>3805</th>\n",
              "      <td>84.0</td>\n",
              "      <td>90.0</td>\n",
              "      <td>130.0</td>\n",
              "    </tr>\n",
              "    <tr>\n",
              "      <th>3806</th>\n",
              "      <td>83.0</td>\n",
              "      <td>105.0</td>\n",
              "      <td>94.0</td>\n",
              "    </tr>\n",
              "    <tr>\n",
              "      <th>3807</th>\n",
              "      <td>174.0</td>\n",
              "      <td>113.0</td>\n",
              "      <td>95.0</td>\n",
              "    </tr>\n",
              "    <tr>\n",
              "      <th>3808</th>\n",
              "      <td>120.0</td>\n",
              "      <td>100.0</td>\n",
              "      <td>88.0</td>\n",
              "    </tr>\n",
              "    <tr>\n",
              "      <th>...</th>\n",
              "      <td>...</td>\n",
              "      <td>...</td>\n",
              "      <td>...</td>\n",
              "    </tr>\n",
              "    <tr>\n",
              "      <th>4749</th>\n",
              "      <td>12.0</td>\n",
              "      <td>50.0</td>\n",
              "      <td>55.0</td>\n",
              "    </tr>\n",
              "    <tr>\n",
              "      <th>4750</th>\n",
              "      <td>8.0</td>\n",
              "      <td>45.0</td>\n",
              "      <td>85.0</td>\n",
              "    </tr>\n",
              "    <tr>\n",
              "      <th>4751</th>\n",
              "      <td>23.0</td>\n",
              "      <td>60.0</td>\n",
              "      <td>80.0</td>\n",
              "    </tr>\n",
              "    <tr>\n",
              "      <th>4752</th>\n",
              "      <td>10.0</td>\n",
              "      <td>45.0</td>\n",
              "      <td>80.0</td>\n",
              "    </tr>\n",
              "    <tr>\n",
              "      <th>4753</th>\n",
              "      <td>18.0</td>\n",
              "      <td>35.0</td>\n",
              "      <td>102.0</td>\n",
              "    </tr>\n",
              "  </tbody>\n",
              "</table>\n",
              "<p>950 rows × 3 columns</p>\n",
              "</div>\n",
              "      <button class=\"colab-df-convert\" onclick=\"convertToInteractive('df-3827eabe-3008-41ec-9a0f-f6d6398f96cd')\"\n",
              "              title=\"Convert this dataframe to an interactive table.\"\n",
              "              style=\"display:none;\">\n",
              "        \n",
              "  <svg xmlns=\"http://www.w3.org/2000/svg\" height=\"24px\"viewBox=\"0 0 24 24\"\n",
              "       width=\"24px\">\n",
              "    <path d=\"M0 0h24v24H0V0z\" fill=\"none\"/>\n",
              "    <path d=\"M18.56 5.44l.94 2.06.94-2.06 2.06-.94-2.06-.94-.94-2.06-.94 2.06-2.06.94zm-11 1L8.5 8.5l.94-2.06 2.06-.94-2.06-.94L8.5 2.5l-.94 2.06-2.06.94zm10 10l.94 2.06.94-2.06 2.06-.94-2.06-.94-.94-2.06-.94 2.06-2.06.94z\"/><path d=\"M17.41 7.96l-1.37-1.37c-.4-.4-.92-.59-1.43-.59-.52 0-1.04.2-1.43.59L10.3 9.45l-7.72 7.72c-.78.78-.78 2.05 0 2.83L4 21.41c.39.39.9.59 1.41.59.51 0 1.02-.2 1.41-.59l7.78-7.78 2.81-2.81c.8-.78.8-2.07 0-2.86zM5.41 20L4 18.59l7.72-7.72 1.47 1.35L5.41 20z\"/>\n",
              "  </svg>\n",
              "      </button>\n",
              "      \n",
              "  <style>\n",
              "    .colab-df-container {\n",
              "      display:flex;\n",
              "      flex-wrap:wrap;\n",
              "      gap: 12px;\n",
              "    }\n",
              "\n",
              "    .colab-df-convert {\n",
              "      background-color: #E8F0FE;\n",
              "      border: none;\n",
              "      border-radius: 50%;\n",
              "      cursor: pointer;\n",
              "      display: none;\n",
              "      fill: #1967D2;\n",
              "      height: 32px;\n",
              "      padding: 0 0 0 0;\n",
              "      width: 32px;\n",
              "    }\n",
              "\n",
              "    .colab-df-convert:hover {\n",
              "      background-color: #E2EBFA;\n",
              "      box-shadow: 0px 1px 2px rgba(60, 64, 67, 0.3), 0px 1px 3px 1px rgba(60, 64, 67, 0.15);\n",
              "      fill: #174EA6;\n",
              "    }\n",
              "\n",
              "    [theme=dark] .colab-df-convert {\n",
              "      background-color: #3B4455;\n",
              "      fill: #D2E3FC;\n",
              "    }\n",
              "\n",
              "    [theme=dark] .colab-df-convert:hover {\n",
              "      background-color: #434B5C;\n",
              "      box-shadow: 0px 1px 3px 1px rgba(0, 0, 0, 0.15);\n",
              "      filter: drop-shadow(0px 1px 2px rgba(0, 0, 0, 0.3));\n",
              "      fill: #FFFFFF;\n",
              "    }\n",
              "  </style>\n",
              "\n",
              "      <script>\n",
              "        const buttonEl =\n",
              "          document.querySelector('#df-3827eabe-3008-41ec-9a0f-f6d6398f96cd button.colab-df-convert');\n",
              "        buttonEl.style.display =\n",
              "          google.colab.kernel.accessAllowed ? 'block' : 'none';\n",
              "\n",
              "        async function convertToInteractive(key) {\n",
              "          const element = document.querySelector('#df-3827eabe-3008-41ec-9a0f-f6d6398f96cd');\n",
              "          const dataTable =\n",
              "            await google.colab.kernel.invokeFunction('convertToInteractive',\n",
              "                                                     [key], {});\n",
              "          if (!dataTable) return;\n",
              "\n",
              "          const docLinkHtml = 'Like what you see? Visit the ' +\n",
              "            '<a target=\"_blank\" href=https://colab.research.google.com/notebooks/data_table.ipynb>data table notebook</a>'\n",
              "            + ' to learn more about interactive tables.';\n",
              "          element.innerHTML = '';\n",
              "          dataTable['output_type'] = 'display_data';\n",
              "          await google.colab.output.renderOutput(dataTable, element);\n",
              "          const docLink = document.createElement('div');\n",
              "          docLink.innerHTML = docLinkHtml;\n",
              "          element.appendChild(docLink);\n",
              "        }\n",
              "      </script>\n",
              "    </div>\n",
              "  </div>\n",
              "  "
            ]
          },
          "metadata": {},
          "execution_count": 74
        }
      ]
    },
    {
      "cell_type": "markdown",
      "source": [
        "#Evaluting the performance of our Models"
      ],
      "metadata": {
        "id": "De_yX2roEHeq"
      }
    },
    {
      "cell_type": "markdown",
      "source": [
        "Xgboost Evaluation"
      ],
      "metadata": {
        "id": "2IwYSlAXEeSW"
      }
    },
    {
      "cell_type": "code",
      "source": [
        "from sklearn.metrics import mean_squared_error,r2_score\n",
        "print(\"xgb mean squared error of HeadWeight {0}\".format(mean_squared_error(y_test[\"HeadWeight(g)\"], xgb_pred[:,:1])))\n",
        "print(\"xgb mean squared error of RadialDiameter {0}\".format(mean_squared_error(y_test[\"RadialDiameter(mm)\"], xgb_pred[:,1:2])))\n",
        "print(\"xgb mean squared error of PolarDiameter {0}\".format(mean_squared_error(y_test[\"PolarDiameter(mm)\"], xgb_pred[:,2:])))"
      ],
      "metadata": {
        "colab": {
          "base_uri": "https://localhost:8080/"
        },
        "id": "tfvEnEEQEGLc",
        "outputId": "c888b4df-ff0e-4c53-e31d-d01511bee6bc"
      },
      "execution_count": 75,
      "outputs": [
        {
          "output_type": "stream",
          "name": "stdout",
          "text": [
            "xgb mean squared error of HeadWeight 1769.1406238356717\n",
            "xgb mean squared error of RadialDiameter 393.21781108681813\n",
            "xgb mean squared error of PolarDiameter 625.4095246867812\n"
          ]
        }
      ]
    },
    {
      "cell_type": "code",
      "source": [
        "print(\"xgb r2_score of HeadWeight {0}\".format(r2_score(y_test[\"HeadWeight(g)\"], xgb_pred[:,:1])))\n",
        "print(\"xgb r2_score of RadialDiameter {0}\".format(r2_score(y_test[\"RadialDiameter(mm)\"], xgb_pred[:,1:2])))\n",
        "print(\"xgb r2_score of PolarDiameter {0}\".format(r2_score(y_test[\"PolarDiameter(mm)\"], xgb_pred[:,2:])))"
      ],
      "metadata": {
        "colab": {
          "base_uri": "https://localhost:8080/"
        },
        "id": "bZUevnkVReml",
        "outputId": "1a19e9ce-b838-44e3-fb74-1a87c5f327dc"
      },
      "execution_count": 76,
      "outputs": [
        {
          "output_type": "stream",
          "name": "stdout",
          "text": [
            "xgb r2_score of HeadWeight 0.7108986656128788\n",
            "xgb r2_score of RadialDiameter 0.6065661298535829\n",
            "xgb r2_score of PolarDiameter 0.2715373916852185\n"
          ]
        }
      ]
    },
    {
      "cell_type": "code",
      "source": [
        "plt.figure(figsize=(10,10))\n",
        "plt.scatter(y_test[\"PolarDiameter(mm)\"], xgb_pred[:,2:], c='crimson')\n",
        "plt.yscale('log')\n",
        "plt.xscale('log')\n",
        "\n",
        "\n",
        "plt.xlabel('True Values', fontsize=15)\n",
        "plt.ylabel('Predictions', fontsize=15)\n",
        "plt.axis('equal')\n",
        "plt.title(\"Polar Diameter\")\n",
        "plt.show()"
      ],
      "metadata": {
        "colab": {
          "base_uri": "https://localhost:8080/",
          "height": 630
        },
        "id": "TfE2rI4pW_mo",
        "outputId": "abb37c12-5e7c-4054-e07f-9a8615d53c37"
      },
      "execution_count": 77,
      "outputs": [
        {
          "output_type": "display_data",
          "data": {
            "text/plain": [
              "<Figure size 720x720 with 1 Axes>"
            ],
            "image/png": "[encoded data removed]"
          },
          "metadata": {
            "needs_background": "light"
          }
        }
      ]
    },
    {
      "cell_type": "code",
      "source": [
        "plt.figure(figsize=(10,10))\n",
        "plt.scatter(y_test[\"RadialDiameter(mm)\"], xgb_pred[:,1:2], c='crimson')\n",
        "plt.yscale('log')\n",
        "plt.xscale('log')\n",
        "\n",
        "\n",
        "plt.xlabel('True Values', fontsize=15)\n",
        "plt.ylabel('Predictions', fontsize=15)\n",
        "plt.axis('equal')\n",
        "plt.title(\"Radial Diameter\")\n",
        "plt.show()"
      ],
      "metadata": {
        "colab": {
          "base_uri": "https://localhost:8080/",
          "height": 630
        },
        "id": "nBdwq9iTWlOx",
        "outputId": "de5667a7-927c-493e-9760-c33bade7a644"
      },
      "execution_count": 78,
      "outputs": [
        {
          "output_type": "display_data",
          "data": {
            "text/plain": [
              "<Figure size 720x720 with 1 Axes>"
            ],
            "image/png": "[encoded data removed]"
          },
          "metadata": {
            "needs_background": "light"
          }
        }
      ]
    },
    {
      "cell_type": "code",
      "source": [
        "plt.figure(figsize=(10,10))\n",
        "plt.scatter(y_test[\"HeadWeight(g)\"], xgb_pred[:,:1], c='crimson')\n",
        "plt.yscale('log')\n",
        "plt.xscale('log')\n",
        "\n",
        "plt.xlabel('True Values', fontsize=15)\n",
        "plt.ylabel('Predictions', fontsize=15)\n",
        "plt.axis('equal')\n",
        "plt.title(\"HeadWeight \")\n",
        "plt.show()"
      ],
      "metadata": {
        "colab": {
          "base_uri": "https://localhost:8080/",
          "height": 630
        },
        "id": "2fcV5KIEU-gb",
        "outputId": "f4455b1b-98cf-40ce-c6c9-ba9727669a6d"
      },
      "execution_count": 79,
      "outputs": [
        {
          "output_type": "display_data",
          "data": {
            "text/plain": [
              "<Figure size 720x720 with 1 Axes>"
            ],
            "image/png": "[encoded data removed]"
          },
          "metadata": {
            "needs_background": "light"
          }
        }
      ]
    },
    {
      "cell_type": "markdown",
      "source": [
        "Lightgbm evaluation"
      ],
      "metadata": {
        "id": "nk_lgrzzSZXm"
      }
    },
    {
      "cell_type": "code",
      "source": [
        "from sklearn.metrics import mean_squared_error,r2_score\n",
        "print(\"lgb mean squared error of HeadWeight {0}\".format(mean_squared_error(y_test[\"HeadWeight(g)\"], lgb_pred[:,:1])))\n",
        "print(\"lgb mean squared error of RadialDiameter {0}\".format(mean_squared_error(y_test[\"RadialDiameter(mm)\"], lgb_pred[:,1:2])))\n",
        "print(\"lgb mean squared error of PolarDiameter {0}\".format(mean_squared_error(y_test[\"PolarDiameter(mm)\"], lgb_pred[:,2:])))"
      ],
      "metadata": {
        "colab": {
          "base_uri": "https://localhost:8080/"
        },
        "id": "ceVMnps1D8b1",
        "outputId": "ed91f084-5e68-45ac-d334-02a5e5250780"
      },
      "execution_count": 80,
      "outputs": [
        {
          "output_type": "stream",
          "name": "stdout",
          "text": [
            "lgb mean squared error of HeadWeight 1601.3022353672457\n",
            "lgb mean squared error of RadialDiameter 396.2580928073796\n",
            "lgb mean squared error of PolarDiameter 639.0108581927585\n"
          ]
        }
      ]
    },
    {
      "cell_type": "code",
      "source": [
        "print(\"lgb r2_score of HeadWeight {0}\".format(r2_score(y_test[\"HeadWeight(g)\"], lgb_pred[:,:1])))\n",
        "print(\"lgb r2_score of RadialDiameter {0}\".format(r2_score(y_test[\"RadialDiameter(mm)\"], lgb_pred[:,1:2])))\n",
        "print(\"lgb r2_score of PolarDiameter {0}\".format(r2_score(y_test[\"PolarDiameter(mm)\"], lgb_pred[:,2:])))"
      ],
      "metadata": {
        "colab": {
          "base_uri": "https://localhost:8080/"
        },
        "id": "wfGQoWnRSFPy",
        "outputId": "191a4744-ae3a-490e-b2c9-5d10bc1abddf"
      },
      "execution_count": 81,
      "outputs": [
        {
          "output_type": "stream",
          "name": "stdout",
          "text": [
            "lgb r2_score of HeadWeight 0.738325712063491\n",
            "lgb r2_score of RadialDiameter 0.6035241776074476\n",
            "lgb r2_score of PolarDiameter 0.2556948717183446\n"
          ]
        }
      ]
    },
    {
      "cell_type": "code",
      "source": [
        "plt.figure(figsize=(10,10))\n",
        "plt.scatter(y_test[\"HeadWeight(g)\"], lgb_pred[:,:1], c='crimson')\n",
        "plt.yscale('log')\n",
        "plt.xscale('log')\n",
        "\n",
        "plt.xlabel('True Values', fontsize=15)\n",
        "plt.ylabel('Predictions', fontsize=15)\n",
        "plt.axis('equal')\n",
        "plt.title(\"HeadWeight \")\n",
        "plt.show()"
      ],
      "metadata": {
        "colab": {
          "base_uri": "https://localhost:8080/",
          "height": 630
        },
        "id": "1XxfBLp6SVA9",
        "outputId": "352ca5aa-6179-423a-8cb1-19985049aef8"
      },
      "execution_count": 82,
      "outputs": [
        {
          "output_type": "display_data",
          "data": {
            "text/plain": [
              "<Figure size 720x720 with 1 Axes>"
            ],
            "image/png": "[encoded data removed]"
          },
          "metadata": {
            "needs_background": "light"
          }
        }
      ]
    },
    {
      "cell_type": "code",
      "source": [
        "plt.figure(figsize=(10,10))\n",
        "plt.scatter(y_test[\"PolarDiameter(mm)\"], lgb_pred[:,2:], c='crimson')\n",
        "plt.yscale('log')\n",
        "plt.xscale('log')\n",
        "\n",
        "\n",
        "plt.xlabel('True Values', fontsize=15)\n",
        "plt.ylabel('Predictions', fontsize=15)\n",
        "plt.axis('equal')\n",
        "plt.title(\"Polar Diameter\")\n",
        "plt.show()"
      ],
      "metadata": {
        "colab": {
          "base_uri": "https://localhost:8080/",
          "height": 630
        },
        "id": "4qu8F8Q2XcuO",
        "outputId": "91f72a9f-5687-45de-ad65-a5ee7a95f8fa"
      },
      "execution_count": 83,
      "outputs": [
        {
          "output_type": "display_data",
          "data": {
            "text/plain": [
              "<Figure size 720x720 with 1 Axes>"
            ],
            "image/png": "[encoded data removed]"
          },
          "metadata": {
            "needs_background": "light"
          }
        }
      ]
    },
    {
      "cell_type": "code",
      "source": [
        "plt.figure(figsize=(10,10))\n",
        "plt.scatter(y_test[\"RadialDiameter(mm)\"], lgb_pred[:,1:2], c='crimson')\n",
        "plt.yscale('log')\n",
        "plt.xscale('log')\n",
        "\n",
        "\n",
        "plt.xlabel('True Values', fontsize=15)\n",
        "plt.ylabel('Predictions', fontsize=15)\n",
        "plt.axis('equal')\n",
        "plt.title(\"Radial Diameter\")\n",
        "plt.show()"
      ],
      "metadata": {
        "colab": {
          "base_uri": "https://localhost:8080/",
          "height": 630
        },
        "id": "HST1pPlpX5vs",
        "outputId": "63dbfa52-5580-4f04-bea4-b8c4c4e9d803"
      },
      "execution_count": 84,
      "outputs": [
        {
          "output_type": "display_data",
          "data": {
            "text/plain": [
              "<Figure size 720x720 with 1 Axes>"
            ],
            "image/png": "[encoded data removed]"
          },
          "metadata": {
            "needs_background": "light"
          }
        }
      ]
    },
    {
      "cell_type": "markdown",
      "source": [
        "Train Test Split to split 20% of the data for testing"
      ],
      "metadata": {
        "id": "BKQdeJRf_6JS"
      }
    },
    {
      "cell_type": "code",
      "source": [
        "from sklearn.model_selection import train_test_split\n",
        "X_train, X_test, y_train, y_test = train_test_split(X, y, test_size=0.2, random_state=42)"
      ],
      "metadata": {
        "id": "cW1E7l736Tol"
      },
      "execution_count": 85,
      "outputs": []
    },
    {
      "cell_type": "code",
      "source": [
        "xgb_pred  = clf_xgb.predict(X_test)"
      ],
      "metadata": {
        "id": "1VmsImWTY9Hq"
      },
      "execution_count": 86,
      "outputs": []
    },
    {
      "cell_type": "code",
      "source": [
        "xgb_pred"
      ],
      "metadata": {
        "colab": {
          "base_uri": "https://localhost:8080/"
        },
        "id": "W0-O7QhNRgxD",
        "outputId": "43f11868-cc1e-46ad-cbeb-ecbbda340e15"
      },
      "execution_count": 87,
      "outputs": [
        {
          "output_type": "execute_result",
          "data": {
            "text/plain": [
              "array([[333.52255 , 144.01125 , 149.5491  ],\n",
              "       [469.77884 , 153.87444 , 125.108826],\n",
              "       [846.0636  , 152.94135 , 141.69896 ],\n",
              "       ...,\n",
              "       [ 18.119246,  73.75256 , 100.74062 ],\n",
              "       [116.02455 ,  91.520905,  93.45905 ],\n",
              "       [450.09344 , 143.63472 , 136.34186 ]], dtype=float32)"
            ]
          },
          "metadata": {},
          "execution_count": 87
        }
      ]
    },
    {
      "cell_type": "code",
      "source": [
        " Prediction = pd.DataFrame(xgb_pred, \n",
        "             columns=['HeadWeight(g)', 'RadialDiameter(mm)',\t'PolarDiameter(mm)'])"
      ],
      "metadata": {
        "id": "i3N_eRwLTMk8"
      },
      "execution_count": 88,
      "outputs": []
    },
    {
      "cell_type": "code",
      "source": [
        "Prediction"
      ],
      "metadata": {
        "colab": {
          "base_uri": "https://localhost:8080/",
          "height": 423
        },
        "id": "Vqp9mUEDTlKO",
        "outputId": "b88961a7-fb25-44d3-b0e7-5bcb2e927597"
      },
      "execution_count": 89,
      "outputs": [
        {
          "output_type": "execute_result",
          "data": {
            "text/plain": [
              "     HeadWeight(g)  RadialDiameter(mm)  PolarDiameter(mm)\n",
              "0       333.522552          144.011246         149.549103\n",
              "1       469.778839          153.874435         125.108826\n",
              "2       846.063599          152.941345         141.698959\n",
              "3       132.176239           98.894905         109.121880\n",
              "4        20.014797           37.469898          39.121986\n",
              "..             ...                 ...                ...\n",
              "946      29.525684           66.468369          58.692196\n",
              "947     378.447937          132.479965         121.677452\n",
              "948      18.119246           73.752563         100.740623\n",
              "949     116.024551           91.520905          93.459053\n",
              "950     450.093445          143.634720         136.341858\n",
              "\n",
              "[951 rows x 3 columns]"
            ],
            "text/html": [
              "\n",
              "  <div id=\"df-40ffbcef-3a58-4cdb-9535-23873327c416\">\n",
              "    <div class=\"colab-df-container\">\n",
              "      <div>\n",
              "<style scoped>\n",
              "    .dataframe tbody tr th:only-of-type {\n",
              "        vertical-align: middle;\n",
              "    }\n",
              "\n",
              "    .dataframe tbody tr th {\n",
              "        vertical-align: top;\n",
              "    }\n",
              "\n",
              "    .dataframe thead th {\n",
              "        text-align: right;\n",
              "    }\n",
              "</style>\n",
              "<table border=\"1\" class=\"dataframe\">\n",
              "  <thead>\n",
              "    <tr style=\"text-align: right;\">\n",
              "      <th></th>\n",
              "      <th>HeadWeight(g)</th>\n",
              "      <th>RadialDiameter(mm)</th>\n",
              "      <th>PolarDiameter(mm)</th>\n",
              "    </tr>\n",
              "  </thead>\n",
              "  <tbody>\n",
              "    <tr>\n",
              "      <th>0</th>\n",
              "      <td>333.522552</td>\n",
              "      <td>144.011246</td>\n",
              "      <td>149.549103</td>\n",
              "    </tr>\n",
              "    <tr>\n",
              "      <th>1</th>\n",
              "      <td>469.778839</td>\n",
              "      <td>153.874435</td>\n",
              "      <td>125.108826</td>\n",
              "    </tr>\n",
              "    <tr>\n",
              "      <th>2</th>\n",
              "      <td>846.063599</td>\n",
              "      <td>152.941345</td>\n",
              "      <td>141.698959</td>\n",
              "    </tr>\n",
              "    <tr>\n",
              "      <th>3</th>\n",
              "      <td>132.176239</td>\n",
              "      <td>98.894905</td>\n",
              "      <td>109.121880</td>\n",
              "    </tr>\n",
              "    <tr>\n",
              "      <th>4</th>\n",
              "      <td>20.014797</td>\n",
              "      <td>37.469898</td>\n",
              "      <td>39.121986</td>\n",
              "    </tr>\n",
              "    <tr>\n",
              "      <th>...</th>\n",
              "      <td>...</td>\n",
              "      <td>...</td>\n",
              "      <td>...</td>\n",
              "    </tr>\n",
              "    <tr>\n",
              "      <th>946</th>\n",
              "      <td>29.525684</td>\n",
              "      <td>66.468369</td>\n",
              "      <td>58.692196</td>\n",
              "    </tr>\n",
              "    <tr>\n",
              "      <th>947</th>\n",
              "      <td>378.447937</td>\n",
              "      <td>132.479965</td>\n",
              "      <td>121.677452</td>\n",
              "    </tr>\n",
              "    <tr>\n",
              "      <th>948</th>\n",
              "      <td>18.119246</td>\n",
              "      <td>73.752563</td>\n",
              "      <td>100.740623</td>\n",
              "    </tr>\n",
              "    <tr>\n",
              "      <th>949</th>\n",
              "      <td>116.024551</td>\n",
              "      <td>91.520905</td>\n",
              "      <td>93.459053</td>\n",
              "    </tr>\n",
              "    <tr>\n",
              "      <th>950</th>\n",
              "      <td>450.093445</td>\n",
              "      <td>143.634720</td>\n",
              "      <td>136.341858</td>\n",
              "    </tr>\n",
              "  </tbody>\n",
              "</table>\n",
              "<p>951 rows × 3 columns</p>\n",
              "</div>\n",
              "      <button class=\"colab-df-convert\" onclick=\"convertToInteractive('df-40ffbcef-3a58-4cdb-9535-23873327c416')\"\n",
              "              title=\"Convert this dataframe to an interactive table.\"\n",
              "              style=\"display:none;\">\n",
              "        \n",
              "  <svg xmlns=\"http://www.w3.org/2000/svg\" height=\"24px\"viewBox=\"0 0 24 24\"\n",
              "       width=\"24px\">\n",
              "    <path d=\"M0 0h24v24H0V0z\" fill=\"none\"/>\n",
              "    <path d=\"M18.56 5.44l.94 2.06.94-2.06 2.06-.94-2.06-.94-.94-2.06-.94 2.06-2.06.94zm-11 1L8.5 8.5l.94-2.06 2.06-.94-2.06-.94L8.5 2.5l-.94 2.06-2.06.94zm10 10l.94 2.06.94-2.06 2.06-.94-2.06-.94-.94-2.06-.94 2.06-2.06.94z\"/><path d=\"M17.41 7.96l-1.37-1.37c-.4-.4-.92-.59-1.43-.59-.52 0-1.04.2-1.43.59L10.3 9.45l-7.72 7.72c-.78.78-.78 2.05 0 2.83L4 21.41c.39.39.9.59 1.41.59.51 0 1.02-.2 1.41-.59l7.78-7.78 2.81-2.81c.8-.78.8-2.07 0-2.86zM5.41 20L4 18.59l7.72-7.72 1.47 1.35L5.41 20z\"/>\n",
              "  </svg>\n",
              "      </button>\n",
              "      \n",
              "  <style>\n",
              "    .colab-df-container {\n",
              "      display:flex;\n",
              "      flex-wrap:wrap;\n",
              "      gap: 12px;\n",
              "    }\n",
              "\n",
              "    .colab-df-convert {\n",
              "      background-color: #E8F0FE;\n",
              "      border: none;\n",
              "      border-radius: 50%;\n",
              "      cursor: pointer;\n",
              "      display: none;\n",
              "      fill: #1967D2;\n",
              "      height: 32px;\n",
              "      padding: 0 0 0 0;\n",
              "      width: 32px;\n",
              "    }\n",
              "\n",
              "    .colab-df-convert:hover {\n",
              "      background-color: #E2EBFA;\n",
              "      box-shadow: 0px 1px 2px rgba(60, 64, 67, 0.3), 0px 1px 3px 1px rgba(60, 64, 67, 0.15);\n",
              "      fill: #174EA6;\n",
              "    }\n",
              "\n",
              "    [theme=dark] .colab-df-convert {\n",
              "      background-color: #3B4455;\n",
              "      fill: #D2E3FC;\n",
              "    }\n",
              "\n",
              "    [theme=dark] .colab-df-convert:hover {\n",
              "      background-color: #434B5C;\n",
              "      box-shadow: 0px 1px 3px 1px rgba(0, 0, 0, 0.15);\n",
              "      filter: drop-shadow(0px 1px 2px rgba(0, 0, 0, 0.3));\n",
              "      fill: #FFFFFF;\n",
              "    }\n",
              "  </style>\n",
              "\n",
              "      <script>\n",
              "        const buttonEl =\n",
              "          document.querySelector('#df-40ffbcef-3a58-4cdb-9535-23873327c416 button.colab-df-convert');\n",
              "        buttonEl.style.display =\n",
              "          google.colab.kernel.accessAllowed ? 'block' : 'none';\n",
              "\n",
              "        async function convertToInteractive(key) {\n",
              "          const element = document.querySelector('#df-40ffbcef-3a58-4cdb-9535-23873327c416');\n",
              "          const dataTable =\n",
              "            await google.colab.kernel.invokeFunction('convertToInteractive',\n",
              "                                                     [key], {});\n",
              "          if (!dataTable) return;\n",
              "\n",
              "          const docLinkHtml = 'Like what you see? Visit the ' +\n",
              "            '<a target=\"_blank\" href=https://colab.research.google.com/notebooks/data_table.ipynb>data table notebook</a>'\n",
              "            + ' to learn more about interactive tables.';\n",
              "          element.innerHTML = '';\n",
              "          dataTable['output_type'] = 'display_data';\n",
              "          await google.colab.output.renderOutput(dataTable, element);\n",
              "          const docLink = document.createElement('div');\n",
              "          docLink.innerHTML = docLinkHtml;\n",
              "          element.appendChild(docLink);\n",
              "        }\n",
              "      </script>\n",
              "    </div>\n",
              "  </div>\n",
              "  "
            ]
          },
          "metadata": {},
          "execution_count": 89
        }
      ]
    },
    {
      "cell_type": "code",
      "source": [
        "#Converting predictions to csv\n",
        "pd.DataFrame(Prediction).to_csv('Yield_Prediction.csv', index=False)"
      ],
      "metadata": {
        "id": "2IxLXLk08hrC"
      },
      "execution_count": 90,
      "outputs": []
    }
  ]
}